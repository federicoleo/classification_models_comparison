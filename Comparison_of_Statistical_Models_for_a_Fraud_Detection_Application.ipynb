{
  "cells": [
    {
      "cell_type": "markdown",
      "metadata": {
        "id": "DxXJT1IlDi9S"
      },
      "source": [
        "# **Comparison of Statistical Learning Models for a Fraud Detection Application**"
      ]
    },
    {
      "cell_type": "markdown",
      "metadata": {
        "id": "3i9erlx6YbKf"
      },
      "source": [
        "This notebook tries to analyze and extract information form a large dataset regarding supply chain business from DataCo company. The dataset holds several features, ranging from revenues to cateogory of items bought per customer.\n",
        "<br />\n",
        "Our goal was to extract useful information about the overwiev of the businesses and to analyze fraud suspicion.\n",
        "<br />\n",
        "In particular, several classification models have been utilized to perform prediction about frauds detection, then comparing them in order to analyze their performances."
      ]
    },
    {
      "cell_type": "code",
      "execution_count": 1,
      "metadata": {
        "id": "SjcDWIfOykJP"
      },
      "outputs": [],
      "source": [
        "import pandas as pd\n",
        "import numpy as np\n",
        "import matplotlib.pyplot as plt\n",
        "import seaborn as sns\n",
        "from sklearn import preprocessing\n",
        "from sklearn.preprocessing import StandardScaler, LabelEncoder\n",
        "from sklearn.model_selection import train_test_split, cross_val_score, KFold\n",
        "from sklearn.linear_model import LogisticRegression\n",
        "from sklearn.ensemble import RandomForestClassifier\n",
        "from sklearn.neighbors import KNeighborsClassifier\n",
        "from sklearn.tree import DecisionTreeClassifier\n",
        "from sklearn.discriminant_analysis import LinearDiscriminantAnalysis\n",
        "from sklearn.metrics import accuracy_score, recall_score, confusion_matrix, f1_score, precision_score"
      ]
    },
    {
      "cell_type": "markdown",
      "metadata": {
        "id": "AfaQASvDsFEE"
      },
      "source": [
        "### **Data Cleaning & Wrangling**"
      ]
    },
    {
      "cell_type": "code",
      "execution_count": 2,
      "metadata": {
        "id": "cikBmSGhyqch"
      },
      "outputs": [],
      "source": [
        "url = 'https://raw.githubusercontent.com/ashishpatel26/DataCo-SMART-SUPPLY-CHAIN-FOR-BIG-DATA-ANALYSIS/main/DataCoSupplyChainDataset.csv'\n",
        "data = pd.read_csv(url, header=0, encoding='unicode_escape')\n",
        "pd.set_option('display.max_columns', None)"
      ]
    },
    {
      "cell_type": "code",
      "execution_count": 3,
      "metadata": {
        "colab": {
          "base_uri": "https://localhost:8080/"
        },
        "id": "r5Vrf5oay4YO",
        "outputId": "fa8e559d-0531-4398-f002-42015334bd84"
      },
      "outputs": [
        {
          "data": {
            "text/plain": [
              "(180519, 53)"
            ]
          },
          "execution_count": 3,
          "metadata": {},
          "output_type": "execute_result"
        }
      ],
      "source": [
        "data.shape"
      ]
    },
    {
      "cell_type": "code",
      "execution_count": 92,
      "metadata": {
        "colab": {
          "base_uri": "https://localhost:8080/",
          "height": 530
        },
        "id": "5VCOgD5y9xto",
        "outputId": "2caa55c9-4c59-441d-93e9-ded88f65f9b7"
      },
      "outputs": [
        {
          "data": {
            "text/html": [
              "<div>\n",
              "<style scoped>\n",
              "    .dataframe tbody tr th:only-of-type {\n",
              "        vertical-align: middle;\n",
              "    }\n",
              "\n",
              "    .dataframe tbody tr th {\n",
              "        vertical-align: top;\n",
              "    }\n",
              "\n",
              "    .dataframe thead th {\n",
              "        text-align: right;\n",
              "    }\n",
              "</style>\n",
              "<table border=\"1\" class=\"dataframe\">\n",
              "  <thead>\n",
              "    <tr style=\"text-align: right;\">\n",
              "      <th></th>\n",
              "      <th>Type</th>\n",
              "      <th>Days for shipping (real)</th>\n",
              "      <th>Days for shipment (scheduled)</th>\n",
              "      <th>Benefit per order</th>\n",
              "      <th>Sales per customer</th>\n",
              "      <th>Delivery Status</th>\n",
              "      <th>Late Delivery Risk</th>\n",
              "      <th>Category Name</th>\n",
              "      <th>Customer City</th>\n",
              "      <th>Customer Country</th>\n",
              "      <th>Customer Id</th>\n",
              "      <th>Customer Name</th>\n",
              "      <th>Customer Segment</th>\n",
              "      <th>Customer State</th>\n",
              "      <th>Customer Zipcode</th>\n",
              "      <th>Department Id</th>\n",
              "      <th>Market</th>\n",
              "      <th>Order City</th>\n",
              "      <th>Order Country</th>\n",
              "      <th>order date (DateOrders)</th>\n",
              "      <th>Order Id</th>\n",
              "      <th>Order Item Discount</th>\n",
              "      <th>Order Item Discount Rate</th>\n",
              "      <th>Order Item Id</th>\n",
              "      <th>Order Item Profit Ratio</th>\n",
              "      <th>Order Item Quantity</th>\n",
              "      <th>Sales</th>\n",
              "      <th>Order Item Total</th>\n",
              "      <th>Order Region</th>\n",
              "      <th>Order State</th>\n",
              "      <th>Order Status</th>\n",
              "      <th>Product Card Id</th>\n",
              "      <th>Product Category Id</th>\n",
              "      <th>Product Name</th>\n",
              "      <th>Product Price</th>\n",
              "      <th>Shipping Mode</th>\n",
              "      <th>Shipping Delta</th>\n",
              "      <th>Fraud</th>\n",
              "    </tr>\n",
              "  </thead>\n",
              "  <tbody>\n",
              "    <tr>\n",
              "      <th>0</th>\n",
              "      <td>DEBIT</td>\n",
              "      <td>3</td>\n",
              "      <td>4</td>\n",
              "      <td>91.250000</td>\n",
              "      <td>314.640015</td>\n",
              "      <td>Advance shipping</td>\n",
              "      <td>0</td>\n",
              "      <td>Sporting Goods</td>\n",
              "      <td>Caguas</td>\n",
              "      <td>Puerto Rico</td>\n",
              "      <td>20755</td>\n",
              "      <td>Cally Holloway</td>\n",
              "      <td>Consumer</td>\n",
              "      <td>PR</td>\n",
              "      <td>725.0</td>\n",
              "      <td>2</td>\n",
              "      <td>Pacific Asia</td>\n",
              "      <td>Bekasi</td>\n",
              "      <td>Indonesia</td>\n",
              "      <td>1/31/2018 22:56</td>\n",
              "      <td>77202</td>\n",
              "      <td>13.110000</td>\n",
              "      <td>0.04</td>\n",
              "      <td>180517</td>\n",
              "      <td>0.29</td>\n",
              "      <td>1</td>\n",
              "      <td>327.75</td>\n",
              "      <td>314.640015</td>\n",
              "      <td>Southeast Asia</td>\n",
              "      <td>Java Occidental</td>\n",
              "      <td>COMPLETE</td>\n",
              "      <td>1360</td>\n",
              "      <td>73</td>\n",
              "      <td>Smart watch</td>\n",
              "      <td>327.75</td>\n",
              "      <td>Standard Class</td>\n",
              "      <td>-1</td>\n",
              "      <td>0</td>\n",
              "    </tr>\n",
              "    <tr>\n",
              "      <th>1</th>\n",
              "      <td>TRANSFER</td>\n",
              "      <td>5</td>\n",
              "      <td>4</td>\n",
              "      <td>-249.089996</td>\n",
              "      <td>311.359985</td>\n",
              "      <td>Late delivery</td>\n",
              "      <td>1</td>\n",
              "      <td>Sporting Goods</td>\n",
              "      <td>Caguas</td>\n",
              "      <td>Puerto Rico</td>\n",
              "      <td>19492</td>\n",
              "      <td>Irene Luna</td>\n",
              "      <td>Consumer</td>\n",
              "      <td>PR</td>\n",
              "      <td>725.0</td>\n",
              "      <td>2</td>\n",
              "      <td>Pacific Asia</td>\n",
              "      <td>Bikaner</td>\n",
              "      <td>India</td>\n",
              "      <td>1/13/2018 12:27</td>\n",
              "      <td>75939</td>\n",
              "      <td>16.389999</td>\n",
              "      <td>0.05</td>\n",
              "      <td>179254</td>\n",
              "      <td>-0.80</td>\n",
              "      <td>1</td>\n",
              "      <td>327.75</td>\n",
              "      <td>311.359985</td>\n",
              "      <td>South Asia</td>\n",
              "      <td>Rajastán</td>\n",
              "      <td>PENDING</td>\n",
              "      <td>1360</td>\n",
              "      <td>73</td>\n",
              "      <td>Smart watch</td>\n",
              "      <td>327.75</td>\n",
              "      <td>Standard Class</td>\n",
              "      <td>1</td>\n",
              "      <td>0</td>\n",
              "    </tr>\n",
              "    <tr>\n",
              "      <th>2</th>\n",
              "      <td>CASH</td>\n",
              "      <td>4</td>\n",
              "      <td>4</td>\n",
              "      <td>-247.779999</td>\n",
              "      <td>309.720001</td>\n",
              "      <td>Shipping on time</td>\n",
              "      <td>0</td>\n",
              "      <td>Sporting Goods</td>\n",
              "      <td>San Jose</td>\n",
              "      <td>EE. UU.</td>\n",
              "      <td>19491</td>\n",
              "      <td>Gillian Maldonado</td>\n",
              "      <td>Consumer</td>\n",
              "      <td>CA</td>\n",
              "      <td>95125.0</td>\n",
              "      <td>2</td>\n",
              "      <td>Pacific Asia</td>\n",
              "      <td>Bikaner</td>\n",
              "      <td>India</td>\n",
              "      <td>1/13/2018 12:06</td>\n",
              "      <td>75938</td>\n",
              "      <td>18.030001</td>\n",
              "      <td>0.06</td>\n",
              "      <td>179253</td>\n",
              "      <td>-0.80</td>\n",
              "      <td>1</td>\n",
              "      <td>327.75</td>\n",
              "      <td>309.720001</td>\n",
              "      <td>South Asia</td>\n",
              "      <td>Rajastán</td>\n",
              "      <td>CLOSED</td>\n",
              "      <td>1360</td>\n",
              "      <td>73</td>\n",
              "      <td>Smart watch</td>\n",
              "      <td>327.75</td>\n",
              "      <td>Standard Class</td>\n",
              "      <td>0</td>\n",
              "      <td>0</td>\n",
              "    </tr>\n",
              "    <tr>\n",
              "      <th>3</th>\n",
              "      <td>DEBIT</td>\n",
              "      <td>3</td>\n",
              "      <td>4</td>\n",
              "      <td>22.860001</td>\n",
              "      <td>304.809998</td>\n",
              "      <td>Advance shipping</td>\n",
              "      <td>0</td>\n",
              "      <td>Sporting Goods</td>\n",
              "      <td>Los Angeles</td>\n",
              "      <td>EE. UU.</td>\n",
              "      <td>19490</td>\n",
              "      <td>Tana Tate</td>\n",
              "      <td>Home Office</td>\n",
              "      <td>CA</td>\n",
              "      <td>90027.0</td>\n",
              "      <td>2</td>\n",
              "      <td>Pacific Asia</td>\n",
              "      <td>Townsville</td>\n",
              "      <td>Australia</td>\n",
              "      <td>1/13/2018 11:45</td>\n",
              "      <td>75937</td>\n",
              "      <td>22.940001</td>\n",
              "      <td>0.07</td>\n",
              "      <td>179252</td>\n",
              "      <td>0.08</td>\n",
              "      <td>1</td>\n",
              "      <td>327.75</td>\n",
              "      <td>304.809998</td>\n",
              "      <td>Oceania</td>\n",
              "      <td>Queensland</td>\n",
              "      <td>COMPLETE</td>\n",
              "      <td>1360</td>\n",
              "      <td>73</td>\n",
              "      <td>Smart watch</td>\n",
              "      <td>327.75</td>\n",
              "      <td>Standard Class</td>\n",
              "      <td>-1</td>\n",
              "      <td>0</td>\n",
              "    </tr>\n",
              "    <tr>\n",
              "      <th>4</th>\n",
              "      <td>PAYMENT</td>\n",
              "      <td>2</td>\n",
              "      <td>4</td>\n",
              "      <td>134.210007</td>\n",
              "      <td>298.250000</td>\n",
              "      <td>Advance shipping</td>\n",
              "      <td>0</td>\n",
              "      <td>Sporting Goods</td>\n",
              "      <td>Caguas</td>\n",
              "      <td>Puerto Rico</td>\n",
              "      <td>19489</td>\n",
              "      <td>Orli Hendricks</td>\n",
              "      <td>Corporate</td>\n",
              "      <td>PR</td>\n",
              "      <td>725.0</td>\n",
              "      <td>2</td>\n",
              "      <td>Pacific Asia</td>\n",
              "      <td>Townsville</td>\n",
              "      <td>Australia</td>\n",
              "      <td>1/13/2018 11:24</td>\n",
              "      <td>75936</td>\n",
              "      <td>29.500000</td>\n",
              "      <td>0.09</td>\n",
              "      <td>179251</td>\n",
              "      <td>0.45</td>\n",
              "      <td>1</td>\n",
              "      <td>327.75</td>\n",
              "      <td>298.250000</td>\n",
              "      <td>Oceania</td>\n",
              "      <td>Queensland</td>\n",
              "      <td>PENDING_PAYMENT</td>\n",
              "      <td>1360</td>\n",
              "      <td>73</td>\n",
              "      <td>Smart watch</td>\n",
              "      <td>327.75</td>\n",
              "      <td>Standard Class</td>\n",
              "      <td>-2</td>\n",
              "      <td>0</td>\n",
              "    </tr>\n",
              "    <tr>\n",
              "      <th>5</th>\n",
              "      <td>TRANSFER</td>\n",
              "      <td>6</td>\n",
              "      <td>4</td>\n",
              "      <td>18.580000</td>\n",
              "      <td>294.980011</td>\n",
              "      <td>Shipping canceled</td>\n",
              "      <td>0</td>\n",
              "      <td>Sporting Goods</td>\n",
              "      <td>Tonawanda</td>\n",
              "      <td>EE. UU.</td>\n",
              "      <td>19488</td>\n",
              "      <td>Kimberly Flowers</td>\n",
              "      <td>Consumer</td>\n",
              "      <td>NY</td>\n",
              "      <td>14150.0</td>\n",
              "      <td>2</td>\n",
              "      <td>Pacific Asia</td>\n",
              "      <td>Toowoomba</td>\n",
              "      <td>Australia</td>\n",
              "      <td>1/13/2018 11:03</td>\n",
              "      <td>75935</td>\n",
              "      <td>32.779999</td>\n",
              "      <td>0.10</td>\n",
              "      <td>179250</td>\n",
              "      <td>0.06</td>\n",
              "      <td>1</td>\n",
              "      <td>327.75</td>\n",
              "      <td>294.980011</td>\n",
              "      <td>Oceania</td>\n",
              "      <td>Queensland</td>\n",
              "      <td>CANCELED</td>\n",
              "      <td>1360</td>\n",
              "      <td>73</td>\n",
              "      <td>Smart watch</td>\n",
              "      <td>327.75</td>\n",
              "      <td>Standard Class</td>\n",
              "      <td>2</td>\n",
              "      <td>0</td>\n",
              "    </tr>\n",
              "    <tr>\n",
              "      <th>6</th>\n",
              "      <td>DEBIT</td>\n",
              "      <td>2</td>\n",
              "      <td>1</td>\n",
              "      <td>95.180000</td>\n",
              "      <td>288.420013</td>\n",
              "      <td>Late delivery</td>\n",
              "      <td>1</td>\n",
              "      <td>Sporting Goods</td>\n",
              "      <td>Caguas</td>\n",
              "      <td>Puerto Rico</td>\n",
              "      <td>19487</td>\n",
              "      <td>Constance Terrell</td>\n",
              "      <td>Home Office</td>\n",
              "      <td>PR</td>\n",
              "      <td>725.0</td>\n",
              "      <td>2</td>\n",
              "      <td>Pacific Asia</td>\n",
              "      <td>Guangzhou</td>\n",
              "      <td>China</td>\n",
              "      <td>1/13/2018 10:42</td>\n",
              "      <td>75934</td>\n",
              "      <td>39.330002</td>\n",
              "      <td>0.12</td>\n",
              "      <td>179249</td>\n",
              "      <td>0.33</td>\n",
              "      <td>1</td>\n",
              "      <td>327.75</td>\n",
              "      <td>288.420013</td>\n",
              "      <td>Eastern Asia</td>\n",
              "      <td>Guangdong</td>\n",
              "      <td>COMPLETE</td>\n",
              "      <td>1360</td>\n",
              "      <td>73</td>\n",
              "      <td>Smart watch</td>\n",
              "      <td>327.75</td>\n",
              "      <td>First Class</td>\n",
              "      <td>1</td>\n",
              "      <td>0</td>\n",
              "    </tr>\n",
              "    <tr>\n",
              "      <th>7</th>\n",
              "      <td>TRANSFER</td>\n",
              "      <td>2</td>\n",
              "      <td>1</td>\n",
              "      <td>68.430000</td>\n",
              "      <td>285.140015</td>\n",
              "      <td>Late delivery</td>\n",
              "      <td>1</td>\n",
              "      <td>Sporting Goods</td>\n",
              "      <td>Miami</td>\n",
              "      <td>EE. UU.</td>\n",
              "      <td>19486</td>\n",
              "      <td>Erica Stevens</td>\n",
              "      <td>Corporate</td>\n",
              "      <td>FL</td>\n",
              "      <td>33162.0</td>\n",
              "      <td>2</td>\n",
              "      <td>Pacific Asia</td>\n",
              "      <td>Guangzhou</td>\n",
              "      <td>China</td>\n",
              "      <td>1/13/2018 10:21</td>\n",
              "      <td>75933</td>\n",
              "      <td>42.610001</td>\n",
              "      <td>0.13</td>\n",
              "      <td>179248</td>\n",
              "      <td>0.24</td>\n",
              "      <td>1</td>\n",
              "      <td>327.75</td>\n",
              "      <td>285.140015</td>\n",
              "      <td>Eastern Asia</td>\n",
              "      <td>Guangdong</td>\n",
              "      <td>PROCESSING</td>\n",
              "      <td>1360</td>\n",
              "      <td>73</td>\n",
              "      <td>Smart watch</td>\n",
              "      <td>327.75</td>\n",
              "      <td>First Class</td>\n",
              "      <td>1</td>\n",
              "      <td>0</td>\n",
              "    </tr>\n",
              "    <tr>\n",
              "      <th>8</th>\n",
              "      <td>CASH</td>\n",
              "      <td>3</td>\n",
              "      <td>2</td>\n",
              "      <td>133.720001</td>\n",
              "      <td>278.589996</td>\n",
              "      <td>Late delivery</td>\n",
              "      <td>1</td>\n",
              "      <td>Sporting Goods</td>\n",
              "      <td>Caguas</td>\n",
              "      <td>Puerto Rico</td>\n",
              "      <td>19485</td>\n",
              "      <td>Nichole Olsen</td>\n",
              "      <td>Corporate</td>\n",
              "      <td>PR</td>\n",
              "      <td>725.0</td>\n",
              "      <td>2</td>\n",
              "      <td>Pacific Asia</td>\n",
              "      <td>Guangzhou</td>\n",
              "      <td>China</td>\n",
              "      <td>1/13/2018 10:00</td>\n",
              "      <td>75932</td>\n",
              "      <td>49.160000</td>\n",
              "      <td>0.15</td>\n",
              "      <td>179247</td>\n",
              "      <td>0.48</td>\n",
              "      <td>1</td>\n",
              "      <td>327.75</td>\n",
              "      <td>278.589996</td>\n",
              "      <td>Eastern Asia</td>\n",
              "      <td>Guangdong</td>\n",
              "      <td>CLOSED</td>\n",
              "      <td>1360</td>\n",
              "      <td>73</td>\n",
              "      <td>Smart watch</td>\n",
              "      <td>327.75</td>\n",
              "      <td>Second Class</td>\n",
              "      <td>1</td>\n",
              "      <td>0</td>\n",
              "    </tr>\n",
              "    <tr>\n",
              "      <th>9</th>\n",
              "      <td>CASH</td>\n",
              "      <td>2</td>\n",
              "      <td>1</td>\n",
              "      <td>132.149994</td>\n",
              "      <td>275.309998</td>\n",
              "      <td>Late delivery</td>\n",
              "      <td>1</td>\n",
              "      <td>Sporting Goods</td>\n",
              "      <td>San Ramon</td>\n",
              "      <td>EE. UU.</td>\n",
              "      <td>19484</td>\n",
              "      <td>Oprah Delacruz</td>\n",
              "      <td>Corporate</td>\n",
              "      <td>CA</td>\n",
              "      <td>94583.0</td>\n",
              "      <td>2</td>\n",
              "      <td>Pacific Asia</td>\n",
              "      <td>Guangzhou</td>\n",
              "      <td>China</td>\n",
              "      <td>1/13/2018 9:39</td>\n",
              "      <td>75931</td>\n",
              "      <td>52.439999</td>\n",
              "      <td>0.16</td>\n",
              "      <td>179246</td>\n",
              "      <td>0.48</td>\n",
              "      <td>1</td>\n",
              "      <td>327.75</td>\n",
              "      <td>275.309998</td>\n",
              "      <td>Eastern Asia</td>\n",
              "      <td>Guangdong</td>\n",
              "      <td>CLOSED</td>\n",
              "      <td>1360</td>\n",
              "      <td>73</td>\n",
              "      <td>Smart watch</td>\n",
              "      <td>327.75</td>\n",
              "      <td>First Class</td>\n",
              "      <td>1</td>\n",
              "      <td>0</td>\n",
              "    </tr>\n",
              "  </tbody>\n",
              "</table>\n",
              "</div>"
            ],
            "text/plain": [
              "       Type  Days for shipping (real)  Days for shipment (scheduled)  \\\n",
              "0     DEBIT                         3                              4   \n",
              "1  TRANSFER                         5                              4   \n",
              "2      CASH                         4                              4   \n",
              "3     DEBIT                         3                              4   \n",
              "4   PAYMENT                         2                              4   \n",
              "5  TRANSFER                         6                              4   \n",
              "6     DEBIT                         2                              1   \n",
              "7  TRANSFER                         2                              1   \n",
              "8      CASH                         3                              2   \n",
              "9      CASH                         2                              1   \n",
              "\n",
              "   Benefit per order  Sales per customer    Delivery Status  \\\n",
              "0          91.250000          314.640015   Advance shipping   \n",
              "1        -249.089996          311.359985      Late delivery   \n",
              "2        -247.779999          309.720001   Shipping on time   \n",
              "3          22.860001          304.809998   Advance shipping   \n",
              "4         134.210007          298.250000   Advance shipping   \n",
              "5          18.580000          294.980011  Shipping canceled   \n",
              "6          95.180000          288.420013      Late delivery   \n",
              "7          68.430000          285.140015      Late delivery   \n",
              "8         133.720001          278.589996      Late delivery   \n",
              "9         132.149994          275.309998      Late delivery   \n",
              "\n",
              "   Late Delivery Risk   Category Name Customer City Customer Country  \\\n",
              "0                   0  Sporting Goods        Caguas      Puerto Rico   \n",
              "1                   1  Sporting Goods        Caguas      Puerto Rico   \n",
              "2                   0  Sporting Goods      San Jose          EE. UU.   \n",
              "3                   0  Sporting Goods   Los Angeles          EE. UU.   \n",
              "4                   0  Sporting Goods        Caguas      Puerto Rico   \n",
              "5                   0  Sporting Goods     Tonawanda          EE. UU.   \n",
              "6                   1  Sporting Goods        Caguas      Puerto Rico   \n",
              "7                   1  Sporting Goods         Miami          EE. UU.   \n",
              "8                   1  Sporting Goods        Caguas      Puerto Rico   \n",
              "9                   1  Sporting Goods     San Ramon          EE. UU.   \n",
              "\n",
              "   Customer Id      Customer Name Customer Segment Customer State  \\\n",
              "0        20755     Cally Holloway         Consumer             PR   \n",
              "1        19492         Irene Luna         Consumer             PR   \n",
              "2        19491  Gillian Maldonado         Consumer             CA   \n",
              "3        19490          Tana Tate      Home Office             CA   \n",
              "4        19489     Orli Hendricks        Corporate             PR   \n",
              "5        19488   Kimberly Flowers         Consumer             NY   \n",
              "6        19487  Constance Terrell      Home Office             PR   \n",
              "7        19486      Erica Stevens        Corporate             FL   \n",
              "8        19485      Nichole Olsen        Corporate             PR   \n",
              "9        19484     Oprah Delacruz        Corporate             CA   \n",
              "\n",
              "  Customer Zipcode  Department Id        Market  Order City Order Country  \\\n",
              "0            725.0              2  Pacific Asia      Bekasi     Indonesia   \n",
              "1            725.0              2  Pacific Asia     Bikaner         India   \n",
              "2          95125.0              2  Pacific Asia     Bikaner         India   \n",
              "3          90027.0              2  Pacific Asia  Townsville     Australia   \n",
              "4            725.0              2  Pacific Asia  Townsville     Australia   \n",
              "5          14150.0              2  Pacific Asia   Toowoomba     Australia   \n",
              "6            725.0              2  Pacific Asia   Guangzhou         China   \n",
              "7          33162.0              2  Pacific Asia   Guangzhou         China   \n",
              "8            725.0              2  Pacific Asia   Guangzhou         China   \n",
              "9          94583.0              2  Pacific Asia   Guangzhou         China   \n",
              "\n",
              "  order date (DateOrders)  Order Id  Order Item Discount  \\\n",
              "0         1/31/2018 22:56     77202            13.110000   \n",
              "1         1/13/2018 12:27     75939            16.389999   \n",
              "2         1/13/2018 12:06     75938            18.030001   \n",
              "3         1/13/2018 11:45     75937            22.940001   \n",
              "4         1/13/2018 11:24     75936            29.500000   \n",
              "5         1/13/2018 11:03     75935            32.779999   \n",
              "6         1/13/2018 10:42     75934            39.330002   \n",
              "7         1/13/2018 10:21     75933            42.610001   \n",
              "8         1/13/2018 10:00     75932            49.160000   \n",
              "9          1/13/2018 9:39     75931            52.439999   \n",
              "\n",
              "   Order Item Discount Rate  Order Item Id  Order Item Profit Ratio  \\\n",
              "0                      0.04         180517                     0.29   \n",
              "1                      0.05         179254                    -0.80   \n",
              "2                      0.06         179253                    -0.80   \n",
              "3                      0.07         179252                     0.08   \n",
              "4                      0.09         179251                     0.45   \n",
              "5                      0.10         179250                     0.06   \n",
              "6                      0.12         179249                     0.33   \n",
              "7                      0.13         179248                     0.24   \n",
              "8                      0.15         179247                     0.48   \n",
              "9                      0.16         179246                     0.48   \n",
              "\n",
              "   Order Item Quantity   Sales  Order Item Total    Order Region  \\\n",
              "0                    1  327.75        314.640015  Southeast Asia   \n",
              "1                    1  327.75        311.359985      South Asia   \n",
              "2                    1  327.75        309.720001      South Asia   \n",
              "3                    1  327.75        304.809998         Oceania   \n",
              "4                    1  327.75        298.250000         Oceania   \n",
              "5                    1  327.75        294.980011         Oceania   \n",
              "6                    1  327.75        288.420013    Eastern Asia   \n",
              "7                    1  327.75        285.140015    Eastern Asia   \n",
              "8                    1  327.75        278.589996    Eastern Asia   \n",
              "9                    1  327.75        275.309998    Eastern Asia   \n",
              "\n",
              "       Order State     Order Status  Product Card Id  Product Category Id  \\\n",
              "0  Java Occidental         COMPLETE             1360                   73   \n",
              "1         Rajastán          PENDING             1360                   73   \n",
              "2         Rajastán           CLOSED             1360                   73   \n",
              "3       Queensland         COMPLETE             1360                   73   \n",
              "4       Queensland  PENDING_PAYMENT             1360                   73   \n",
              "5       Queensland         CANCELED             1360                   73   \n",
              "6        Guangdong         COMPLETE             1360                   73   \n",
              "7        Guangdong       PROCESSING             1360                   73   \n",
              "8        Guangdong           CLOSED             1360                   73   \n",
              "9        Guangdong           CLOSED             1360                   73   \n",
              "\n",
              "   Product Name  Product Price   Shipping Mode  Shipping Delta  Fraud  \n",
              "0  Smart watch          327.75  Standard Class              -1      0  \n",
              "1  Smart watch          327.75  Standard Class               1      0  \n",
              "2  Smart watch          327.75  Standard Class               0      0  \n",
              "3  Smart watch          327.75  Standard Class              -1      0  \n",
              "4  Smart watch          327.75  Standard Class              -2      0  \n",
              "5  Smart watch          327.75  Standard Class               2      0  \n",
              "6  Smart watch          327.75     First Class               1      0  \n",
              "7  Smart watch          327.75     First Class               1      0  \n",
              "8  Smart watch          327.75    Second Class               1      0  \n",
              "9  Smart watch          327.75     First Class               1      0  "
            ]
          },
          "execution_count": 92,
          "metadata": {},
          "output_type": "execute_result"
        }
      ],
      "source": [
        "data.tail(10)"
      ]
    },
    {
      "cell_type": "markdown",
      "metadata": {
        "id": "hcWWSEQYrRLd"
      },
      "source": [
        "Description of the features:\n",
        "* `Type` Type of transaction made\n",
        "* `Days for shipping (real)` Actual shipping days of the purchased product\n",
        "* `Days for shipment (schedule)` Days of scheduled delivery of the purchased product\n",
        "* `Benefit per order` Earnings per order placed\n",
        "* `Sales per customer` Total sales per customer made per customer\n",
        "* `Delivery Status` Delivery status of orders\n",
        "* `Late_delivery_risk` Categorical variable that indicates if sending is late (1) or on time (0)\n",
        "* `Category Id` Product category code\n",
        "* `Category Name` Description of the product category\n",
        "* `Customer City` City where the customer made the purchase\n",
        "* `Customer Country` Country where the customer made the purchase\n",
        "* `Customer Email` Customer's emai\n",
        "* `Customer Fname` Customer name\n",
        "* `Customer Id` Customer ID\n",
        "* `Customer Lname` Customer lastname\n",
        "* `Customer Password` Masked customer key\n",
        "* `Customer Segment` Types of Customers: Consumer, Corporate, Home, Office\n",
        "* `Customer State` State to which the store where the purchase is registered belongs\n",
        "* `Customer Street` Street to which the store where the purchase is registered belongs\n",
        "* `Customer Zipcode` Customer Zipcode\n",
        "* `Department Id` Department code of store\n",
        "* `Department Name` Department name of store\n",
        "* `Latitude` Latitude corresponding to location of store\n",
        "* `Longitude` Longitude corresponding to location of store\n",
        "* `Market` Market to where is delivered: Africa, Europe, LATM, Pacific Asia, USCA\n",
        "* `Order City` Destination city of the order\n",
        "* `Order Country` Destination country of the order\n",
        "* `Order Customer Id` Customer order code\n",
        "* `order date (DateOrders)` Date on which the order is made\n",
        "* `Order Id` Order code\n",
        "* `Order Item Cardprod Id` Product code generated through the RFID reader\n",
        "* `Order Item Discount Rate` Order item discount percentage\n",
        "* `Order Item Id` Order item code\n",
        "* `Order Item Product Price` Price of products without discount\n",
        "* `Order Item Profit Ratio` Order Item Profit Ratio\n",
        "* `Order Item Quantity` Number of products per order\n",
        "* `Sales` Value in sales\n",
        "* `Order Item Total` Total amount per order\n",
        "* `Order Profit per Order` Order Profit per Order\n",
        "* `Order Region` Region of the world where the order is delivered\n",
        "* `Order State` State of the region where the order is delivered\n",
        "* `Order Status` COMPLETE, PENDING, CLOSED, PENDING_PAYMENT, CANCELED, PROCESSING...\n",
        "* `Product Card Id` Product code\n",
        "* `Product Category Id` Product category code\n",
        "* `Product Description` Product description\n",
        "* `Product Image` Link of visit and purchade of the product\n",
        "* `Product Name` Product name\n",
        "* `Product Price` Product price\n",
        "* `Product Status` Status of the product stock: not available (1), available (0)\n",
        "* `Shipping date (DateOrders)` Exact date and time of shipment\n",
        "* `Shipping Mode` Shipping mode"
      ]
    },
    {
      "cell_type": "code",
      "execution_count": 5,
      "metadata": {
        "colab": {
          "base_uri": "https://localhost:8080/"
        },
        "id": "lU6diaL7rNdg",
        "outputId": "12f4f497-aa40-464f-c7f0-bebf483a7be8"
      },
      "outputs": [
        {
          "name": "stdout",
          "output_type": "stream",
          "text": [
            "<class 'pandas.core.frame.DataFrame'>\n",
            "RangeIndex: 180519 entries, 0 to 180518\n",
            "Data columns (total 53 columns):\n",
            " #   Column                         Non-Null Count   Dtype  \n",
            "---  ------                         --------------   -----  \n",
            " 0   Type                           180519 non-null  object \n",
            " 1   Days for shipping (real)       180519 non-null  int64  \n",
            " 2   Days for shipment (scheduled)  180519 non-null  int64  \n",
            " 3   Benefit per order              180519 non-null  float64\n",
            " 4   Sales per customer             180519 non-null  float64\n",
            " 5   Delivery Status                180519 non-null  object \n",
            " 6   Late_delivery_risk             180519 non-null  int64  \n",
            " 7   Category Id                    180519 non-null  int64  \n",
            " 8   Category Name                  180519 non-null  object \n",
            " 9   Customer City                  180519 non-null  object \n",
            " 10  Customer Country               180519 non-null  object \n",
            " 11  Customer Email                 180519 non-null  object \n",
            " 12  Customer Fname                 180519 non-null  object \n",
            " 13  Customer Id                    180519 non-null  int64  \n",
            " 14  Customer Lname                 180511 non-null  object \n",
            " 15  Customer Password              180519 non-null  object \n",
            " 16  Customer Segment               180519 non-null  object \n",
            " 17  Customer State                 180519 non-null  object \n",
            " 18  Customer Street                180519 non-null  object \n",
            " 19  Customer Zipcode               180516 non-null  float64\n",
            " 20  Department Id                  180519 non-null  int64  \n",
            " 21  Department Name                180519 non-null  object \n",
            " 22  Latitude                       180519 non-null  float64\n",
            " 23  Longitude                      180519 non-null  float64\n",
            " 24  Market                         180519 non-null  object \n",
            " 25  Order City                     180519 non-null  object \n",
            " 26  Order Country                  180519 non-null  object \n",
            " 27  Order Customer Id              180519 non-null  int64  \n",
            " 28  order date (DateOrders)        180519 non-null  object \n",
            " 29  Order Id                       180519 non-null  int64  \n",
            " 30  Order Item Cardprod Id         180519 non-null  int64  \n",
            " 31  Order Item Discount            180519 non-null  float64\n",
            " 32  Order Item Discount Rate       180519 non-null  float64\n",
            " 33  Order Item Id                  180519 non-null  int64  \n",
            " 34  Order Item Product Price       180519 non-null  float64\n",
            " 35  Order Item Profit Ratio        180519 non-null  float64\n",
            " 36  Order Item Quantity            180519 non-null  int64  \n",
            " 37  Sales                          180519 non-null  float64\n",
            " 38  Order Item Total               180519 non-null  float64\n",
            " 39  Order Profit Per Order         180519 non-null  float64\n",
            " 40  Order Region                   180519 non-null  object \n",
            " 41  Order State                    180519 non-null  object \n",
            " 42  Order Status                   180519 non-null  object \n",
            " 43  Order Zipcode                  24840 non-null   float64\n",
            " 44  Product Card Id                180519 non-null  int64  \n",
            " 45  Product Category Id            180519 non-null  int64  \n",
            " 46  Product Description            0 non-null       float64\n",
            " 47  Product Image                  180519 non-null  object \n",
            " 48  Product Name                   180519 non-null  object \n",
            " 49  Product Price                  180519 non-null  float64\n",
            " 50  Product Status                 180519 non-null  int64  \n",
            " 51  shipping date (DateOrders)     180519 non-null  object \n",
            " 52  Shipping Mode                  180519 non-null  object \n",
            "dtypes: float64(15), int64(14), object(24)\n",
            "memory usage: 73.0+ MB\n"
          ]
        }
      ],
      "source": [
        "data.info()"
      ]
    },
    {
      "cell_type": "code",
      "execution_count": 6,
      "metadata": {
        "colab": {
          "base_uri": "https://localhost:8080/"
        },
        "id": "-JROdC1srujI",
        "outputId": "2c7e0666-86a6-43a1-85bb-9e64edecf1e1"
      },
      "outputs": [
        {
          "name": "stdout",
          "output_type": "stream",
          "text": [
            "14) 8 null values out of 180519 for column \"Customer Lname\"\n",
            "19) 3 null values out of 180519 for column \"Customer Zipcode\"\n",
            "43) 155679 null values out of 180519 for column \"Order Zipcode\"\n",
            "46) 180519 null values out of 180519 for column \"Product Description\"\n"
          ]
        }
      ],
      "source": [
        "i = 0\n",
        "\n",
        "for feature in data.columns:\n",
        "  if len(data[data[feature].isnull()]) > 0:\n",
        "    print(str(i) + ') {null_values} null values out of {length} for column \"{feature}\"'.format(\n",
        "        length=len(data),\n",
        "        null_values=data[feature].isnull().sum(),\n",
        "        feature=feature\n",
        "    ))\n",
        "  i += 1\n",
        "\n",
        "del i"
      ]
    },
    {
      "cell_type": "markdown",
      "metadata": {
        "id": "pA73k6NBrzXf"
      },
      "source": [
        "We can definetely drop `Order Zipcode` and `Product Description`."
      ]
    },
    {
      "cell_type": "code",
      "execution_count": 7,
      "metadata": {
        "id": "w7QCplhRrxYu"
      },
      "outputs": [],
      "source": [
        "data.drop(['Order Zipcode', 'Product Description'], axis=1, inplace=True)"
      ]
    },
    {
      "cell_type": "markdown",
      "metadata": {
        "id": "GxMcdu7oGUvA"
      },
      "source": [
        "We shall see which records miss `Customer Zipcode` values, in order to figure out how to replace them."
      ]
    },
    {
      "cell_type": "code",
      "execution_count": 8,
      "metadata": {
        "colab": {
          "base_uri": "https://localhost:8080/",
          "height": 346
        },
        "id": "kJ_yeR2mFsjk",
        "outputId": "9f433dc1-1dd9-42ea-c30b-6ae924a3022d"
      },
      "outputs": [
        {
          "data": {
            "text/html": [
              "<div>\n",
              "<style scoped>\n",
              "    .dataframe tbody tr th:only-of-type {\n",
              "        vertical-align: middle;\n",
              "    }\n",
              "\n",
              "    .dataframe tbody tr th {\n",
              "        vertical-align: top;\n",
              "    }\n",
              "\n",
              "    .dataframe thead th {\n",
              "        text-align: right;\n",
              "    }\n",
              "</style>\n",
              "<table border=\"1\" class=\"dataframe\">\n",
              "  <thead>\n",
              "    <tr style=\"text-align: right;\">\n",
              "      <th></th>\n",
              "      <th>Type</th>\n",
              "      <th>Days for shipping (real)</th>\n",
              "      <th>Days for shipment (scheduled)</th>\n",
              "      <th>Benefit per order</th>\n",
              "      <th>Sales per customer</th>\n",
              "      <th>Delivery Status</th>\n",
              "      <th>Late_delivery_risk</th>\n",
              "      <th>Category Id</th>\n",
              "      <th>Category Name</th>\n",
              "      <th>Customer City</th>\n",
              "      <th>Customer Country</th>\n",
              "      <th>Customer Email</th>\n",
              "      <th>Customer Fname</th>\n",
              "      <th>Customer Id</th>\n",
              "      <th>Customer Lname</th>\n",
              "      <th>Customer Password</th>\n",
              "      <th>Customer Segment</th>\n",
              "      <th>Customer State</th>\n",
              "      <th>Customer Street</th>\n",
              "      <th>Customer Zipcode</th>\n",
              "      <th>Department Id</th>\n",
              "      <th>Department Name</th>\n",
              "      <th>Latitude</th>\n",
              "      <th>Longitude</th>\n",
              "      <th>Market</th>\n",
              "      <th>Order City</th>\n",
              "      <th>Order Country</th>\n",
              "      <th>Order Customer Id</th>\n",
              "      <th>order date (DateOrders)</th>\n",
              "      <th>Order Id</th>\n",
              "      <th>Order Item Cardprod Id</th>\n",
              "      <th>Order Item Discount</th>\n",
              "      <th>Order Item Discount Rate</th>\n",
              "      <th>Order Item Id</th>\n",
              "      <th>Order Item Product Price</th>\n",
              "      <th>Order Item Profit Ratio</th>\n",
              "      <th>Order Item Quantity</th>\n",
              "      <th>Sales</th>\n",
              "      <th>Order Item Total</th>\n",
              "      <th>Order Profit Per Order</th>\n",
              "      <th>Order Region</th>\n",
              "      <th>Order State</th>\n",
              "      <th>Order Status</th>\n",
              "      <th>Product Card Id</th>\n",
              "      <th>Product Category Id</th>\n",
              "      <th>Product Image</th>\n",
              "      <th>Product Name</th>\n",
              "      <th>Product Price</th>\n",
              "      <th>Product Status</th>\n",
              "      <th>shipping date (DateOrders)</th>\n",
              "      <th>Shipping Mode</th>\n",
              "    </tr>\n",
              "  </thead>\n",
              "  <tbody>\n",
              "    <tr>\n",
              "      <th>35704</th>\n",
              "      <td>DEBIT</td>\n",
              "      <td>2</td>\n",
              "      <td>1</td>\n",
              "      <td>66.379997</td>\n",
              "      <td>189.660004</td>\n",
              "      <td>Late delivery</td>\n",
              "      <td>1</td>\n",
              "      <td>65</td>\n",
              "      <td>Consumer Electronics</td>\n",
              "      <td>CA</td>\n",
              "      <td>EE. UU.</td>\n",
              "      <td>XXXXXXXXX</td>\n",
              "      <td>Sara</td>\n",
              "      <td>14577</td>\n",
              "      <td>Foreman</td>\n",
              "      <td>XXXXXXXXX</td>\n",
              "      <td>Consumer</td>\n",
              "      <td>95758</td>\n",
              "      <td>Elk Grove</td>\n",
              "      <td>NaN</td>\n",
              "      <td>10</td>\n",
              "      <td>Technology</td>\n",
              "      <td>39.134159</td>\n",
              "      <td>-123.718552</td>\n",
              "      <td>Europe</td>\n",
              "      <td>Valence</td>\n",
              "      <td>Francia</td>\n",
              "      <td>14577</td>\n",
              "      <td>11/2/2017 18:31</td>\n",
              "      <td>71024</td>\n",
              "      <td>1352</td>\n",
              "      <td>63.220001</td>\n",
              "      <td>0.25</td>\n",
              "      <td>174339</td>\n",
              "      <td>252.880005</td>\n",
              "      <td>0.35</td>\n",
              "      <td>1</td>\n",
              "      <td>252.880005</td>\n",
              "      <td>189.660004</td>\n",
              "      <td>66.379997</td>\n",
              "      <td>Western Europe</td>\n",
              "      <td>Auvernia-Ródano-Alpes</td>\n",
              "      <td>COMPLETE</td>\n",
              "      <td>1352</td>\n",
              "      <td>65</td>\n",
              "      <td>http://images.acmesports.sports/Industrial+con...</td>\n",
              "      <td>Industrial consumer electronics</td>\n",
              "      <td>252.880005</td>\n",
              "      <td>0</td>\n",
              "      <td>11/4/2017 18:31</td>\n",
              "      <td>First Class</td>\n",
              "    </tr>\n",
              "    <tr>\n",
              "      <th>46440</th>\n",
              "      <td>PAYMENT</td>\n",
              "      <td>4</td>\n",
              "      <td>4</td>\n",
              "      <td>10.910000</td>\n",
              "      <td>38.959999</td>\n",
              "      <td>Shipping on time</td>\n",
              "      <td>0</td>\n",
              "      <td>75</td>\n",
              "      <td>Video Games</td>\n",
              "      <td>CA</td>\n",
              "      <td>EE. UU.</td>\n",
              "      <td>XXXXXXXXX</td>\n",
              "      <td>Eugenia</td>\n",
              "      <td>17171</td>\n",
              "      <td>Slater</td>\n",
              "      <td>XXXXXXXXX</td>\n",
              "      <td>Corporate</td>\n",
              "      <td>95758</td>\n",
              "      <td>Elk Grove</td>\n",
              "      <td>NaN</td>\n",
              "      <td>9</td>\n",
              "      <td>Discs Shop</td>\n",
              "      <td>38.408573</td>\n",
              "      <td>-121.449112</td>\n",
              "      <td>Pacific Asia</td>\n",
              "      <td>Manila</td>\n",
              "      <td>Filipinas</td>\n",
              "      <td>17171</td>\n",
              "      <td>12/10/2017 15:18</td>\n",
              "      <td>73618</td>\n",
              "      <td>1362</td>\n",
              "      <td>0.800000</td>\n",
              "      <td>0.02</td>\n",
              "      <td>176933</td>\n",
              "      <td>39.750000</td>\n",
              "      <td>0.28</td>\n",
              "      <td>1</td>\n",
              "      <td>39.750000</td>\n",
              "      <td>38.959999</td>\n",
              "      <td>10.910000</td>\n",
              "      <td>Southeast Asia</td>\n",
              "      <td>Capital Nacional</td>\n",
              "      <td>PENDING_PAYMENT</td>\n",
              "      <td>1362</td>\n",
              "      <td>75</td>\n",
              "      <td>http://images.acmesports.sports/Fighting+video...</td>\n",
              "      <td>Fighting video games</td>\n",
              "      <td>39.750000</td>\n",
              "      <td>0</td>\n",
              "      <td>12/14/2017 15:18</td>\n",
              "      <td>Standard Class</td>\n",
              "    </tr>\n",
              "    <tr>\n",
              "      <th>82511</th>\n",
              "      <td>DEBIT</td>\n",
              "      <td>4</td>\n",
              "      <td>4</td>\n",
              "      <td>59.990002</td>\n",
              "      <td>299.959992</td>\n",
              "      <td>Shipping on time</td>\n",
              "      <td>0</td>\n",
              "      <td>63</td>\n",
              "      <td>Children's Clothing</td>\n",
              "      <td>CA</td>\n",
              "      <td>EE. UU.</td>\n",
              "      <td>XXXXXXXXX</td>\n",
              "      <td>Zena</td>\n",
              "      <td>14046</td>\n",
              "      <td>Elliott</td>\n",
              "      <td>XXXXXXXXX</td>\n",
              "      <td>Consumer</td>\n",
              "      <td>91732</td>\n",
              "      <td>El Monte</td>\n",
              "      <td>NaN</td>\n",
              "      <td>4</td>\n",
              "      <td>Apparel</td>\n",
              "      <td>34.071892</td>\n",
              "      <td>-118.013886</td>\n",
              "      <td>Europe</td>\n",
              "      <td>Sheffield</td>\n",
              "      <td>Reino Unido</td>\n",
              "      <td>14046</td>\n",
              "      <td>10/26/2017 0:29</td>\n",
              "      <td>70493</td>\n",
              "      <td>1350</td>\n",
              "      <td>57.139999</td>\n",
              "      <td>0.16</td>\n",
              "      <td>173808</td>\n",
              "      <td>357.100006</td>\n",
              "      <td>0.20</td>\n",
              "      <td>1</td>\n",
              "      <td>357.100006</td>\n",
              "      <td>299.959992</td>\n",
              "      <td>59.990002</td>\n",
              "      <td>Northern Europe</td>\n",
              "      <td>Inglaterra</td>\n",
              "      <td>COMPLETE</td>\n",
              "      <td>1350</td>\n",
              "      <td>63</td>\n",
              "      <td>http://images.acmesports.sports/Children+heaters</td>\n",
              "      <td>Children's heaters</td>\n",
              "      <td>357.100006</td>\n",
              "      <td>0</td>\n",
              "      <td>10/30/2017 0:29</td>\n",
              "      <td>Standard Class</td>\n",
              "    </tr>\n",
              "  </tbody>\n",
              "</table>\n",
              "</div>"
            ],
            "text/plain": [
              "          Type  Days for shipping (real)  Days for shipment (scheduled)  \\\n",
              "35704    DEBIT                         2                              1   \n",
              "46440  PAYMENT                         4                              4   \n",
              "82511    DEBIT                         4                              4   \n",
              "\n",
              "       Benefit per order  Sales per customer   Delivery Status  \\\n",
              "35704          66.379997          189.660004     Late delivery   \n",
              "46440          10.910000           38.959999  Shipping on time   \n",
              "82511          59.990002          299.959992  Shipping on time   \n",
              "\n",
              "       Late_delivery_risk  Category Id         Category Name Customer City  \\\n",
              "35704                   1           65  Consumer Electronics            CA   \n",
              "46440                   0           75           Video Games            CA   \n",
              "82511                   0           63   Children's Clothing            CA   \n",
              "\n",
              "      Customer Country Customer Email Customer Fname  Customer Id  \\\n",
              "35704          EE. UU.      XXXXXXXXX           Sara        14577   \n",
              "46440          EE. UU.      XXXXXXXXX        Eugenia        17171   \n",
              "82511          EE. UU.      XXXXXXXXX           Zena        14046   \n",
              "\n",
              "      Customer Lname Customer Password Customer Segment Customer State  \\\n",
              "35704        Foreman         XXXXXXXXX         Consumer          95758   \n",
              "46440         Slater         XXXXXXXXX        Corporate          95758   \n",
              "82511        Elliott         XXXXXXXXX         Consumer          91732   \n",
              "\n",
              "      Customer Street  Customer Zipcode  Department Id Department Name  \\\n",
              "35704       Elk Grove               NaN             10      Technology   \n",
              "46440       Elk Grove               NaN              9      Discs Shop   \n",
              "82511        El Monte               NaN              4         Apparel   \n",
              "\n",
              "        Latitude   Longitude        Market Order City Order Country  \\\n",
              "35704  39.134159 -123.718552        Europe    Valence       Francia   \n",
              "46440  38.408573 -121.449112  Pacific Asia     Manila     Filipinas   \n",
              "82511  34.071892 -118.013886        Europe  Sheffield   Reino Unido   \n",
              "\n",
              "       Order Customer Id order date (DateOrders)  Order Id  \\\n",
              "35704              14577         11/2/2017 18:31     71024   \n",
              "46440              17171        12/10/2017 15:18     73618   \n",
              "82511              14046         10/26/2017 0:29     70493   \n",
              "\n",
              "       Order Item Cardprod Id  Order Item Discount  Order Item Discount Rate  \\\n",
              "35704                    1352            63.220001                      0.25   \n",
              "46440                    1362             0.800000                      0.02   \n",
              "82511                    1350            57.139999                      0.16   \n",
              "\n",
              "       Order Item Id  Order Item Product Price  Order Item Profit Ratio  \\\n",
              "35704         174339                252.880005                     0.35   \n",
              "46440         176933                 39.750000                     0.28   \n",
              "82511         173808                357.100006                     0.20   \n",
              "\n",
              "       Order Item Quantity       Sales  Order Item Total  \\\n",
              "35704                    1  252.880005        189.660004   \n",
              "46440                    1   39.750000         38.959999   \n",
              "82511                    1  357.100006        299.959992   \n",
              "\n",
              "       Order Profit Per Order     Order Region            Order State  \\\n",
              "35704               66.379997   Western Europe  Auvernia-Ródano-Alpes   \n",
              "46440               10.910000   Southeast Asia       Capital Nacional   \n",
              "82511               59.990002  Northern Europe             Inglaterra   \n",
              "\n",
              "          Order Status  Product Card Id  Product Category Id  \\\n",
              "35704         COMPLETE             1352                   65   \n",
              "46440  PENDING_PAYMENT             1362                   75   \n",
              "82511         COMPLETE             1350                   63   \n",
              "\n",
              "                                           Product Image  \\\n",
              "35704  http://images.acmesports.sports/Industrial+con...   \n",
              "46440  http://images.acmesports.sports/Fighting+video...   \n",
              "82511   http://images.acmesports.sports/Children+heaters   \n",
              "\n",
              "                          Product Name  Product Price  Product Status  \\\n",
              "35704  Industrial consumer electronics     252.880005               0   \n",
              "46440             Fighting video games      39.750000               0   \n",
              "82511               Children's heaters     357.100006               0   \n",
              "\n",
              "      shipping date (DateOrders)   Shipping Mode  \n",
              "35704            11/4/2017 18:31     First Class  \n",
              "46440           12/14/2017 15:18  Standard Class  \n",
              "82511            10/30/2017 0:29  Standard Class  "
            ]
          },
          "execution_count": 8,
          "metadata": {},
          "output_type": "execute_result"
        }
      ],
      "source": [
        "data[data['Customer Zipcode'].isnull()]"
      ]
    },
    {
      "cell_type": "code",
      "execution_count": 9,
      "metadata": {
        "colab": {
          "base_uri": "https://localhost:8080/",
          "height": 298
        },
        "id": "vCx7miE3GbtL",
        "outputId": "85bca8a4-3b79-401d-e0bc-03570440c399"
      },
      "outputs": [
        {
          "data": {
            "text/html": [
              "<div>\n",
              "<style scoped>\n",
              "    .dataframe tbody tr th:only-of-type {\n",
              "        vertical-align: middle;\n",
              "    }\n",
              "\n",
              "    .dataframe tbody tr th {\n",
              "        vertical-align: top;\n",
              "    }\n",
              "\n",
              "    .dataframe thead th {\n",
              "        text-align: right;\n",
              "    }\n",
              "</style>\n",
              "<table border=\"1\" class=\"dataframe\">\n",
              "  <thead>\n",
              "    <tr style=\"text-align: right;\">\n",
              "      <th></th>\n",
              "      <th>Type</th>\n",
              "      <th>Days for shipping (real)</th>\n",
              "      <th>Days for shipment (scheduled)</th>\n",
              "      <th>Benefit per order</th>\n",
              "      <th>Sales per customer</th>\n",
              "      <th>Delivery Status</th>\n",
              "      <th>Late_delivery_risk</th>\n",
              "      <th>Category Id</th>\n",
              "      <th>Category Name</th>\n",
              "      <th>Customer City</th>\n",
              "      <th>Customer Country</th>\n",
              "      <th>Customer Email</th>\n",
              "      <th>Customer Fname</th>\n",
              "      <th>Customer Id</th>\n",
              "      <th>Customer Lname</th>\n",
              "      <th>Customer Password</th>\n",
              "      <th>Customer Segment</th>\n",
              "      <th>Customer State</th>\n",
              "      <th>Customer Street</th>\n",
              "      <th>Customer Zipcode</th>\n",
              "      <th>Department Id</th>\n",
              "      <th>Department Name</th>\n",
              "      <th>Latitude</th>\n",
              "      <th>Longitude</th>\n",
              "      <th>Market</th>\n",
              "      <th>Order City</th>\n",
              "      <th>Order Country</th>\n",
              "      <th>Order Customer Id</th>\n",
              "      <th>order date (DateOrders)</th>\n",
              "      <th>Order Id</th>\n",
              "      <th>Order Item Cardprod Id</th>\n",
              "      <th>Order Item Discount</th>\n",
              "      <th>Order Item Discount Rate</th>\n",
              "      <th>Order Item Id</th>\n",
              "      <th>Order Item Product Price</th>\n",
              "      <th>Order Item Profit Ratio</th>\n",
              "      <th>Order Item Quantity</th>\n",
              "      <th>Sales</th>\n",
              "      <th>Order Item Total</th>\n",
              "      <th>Order Profit Per Order</th>\n",
              "      <th>Order Region</th>\n",
              "      <th>Order State</th>\n",
              "      <th>Order Status</th>\n",
              "      <th>Product Card Id</th>\n",
              "      <th>Product Category Id</th>\n",
              "      <th>Product Image</th>\n",
              "      <th>Product Name</th>\n",
              "      <th>Product Price</th>\n",
              "      <th>Product Status</th>\n",
              "      <th>shipping date (DateOrders)</th>\n",
              "      <th>Shipping Mode</th>\n",
              "    </tr>\n",
              "  </thead>\n",
              "  <tbody>\n",
              "    <tr>\n",
              "      <th>35704</th>\n",
              "      <td>DEBIT</td>\n",
              "      <td>2</td>\n",
              "      <td>1</td>\n",
              "      <td>66.379997</td>\n",
              "      <td>189.660004</td>\n",
              "      <td>Late delivery</td>\n",
              "      <td>1</td>\n",
              "      <td>65</td>\n",
              "      <td>Consumer Electronics</td>\n",
              "      <td>CA</td>\n",
              "      <td>EE. UU.</td>\n",
              "      <td>XXXXXXXXX</td>\n",
              "      <td>Sara</td>\n",
              "      <td>14577</td>\n",
              "      <td>Foreman</td>\n",
              "      <td>XXXXXXXXX</td>\n",
              "      <td>Consumer</td>\n",
              "      <td>95758</td>\n",
              "      <td>Elk Grove</td>\n",
              "      <td>NaN</td>\n",
              "      <td>10</td>\n",
              "      <td>Technology</td>\n",
              "      <td>39.134159</td>\n",
              "      <td>-123.718552</td>\n",
              "      <td>Europe</td>\n",
              "      <td>Valence</td>\n",
              "      <td>Francia</td>\n",
              "      <td>14577</td>\n",
              "      <td>11/2/2017 18:31</td>\n",
              "      <td>71024</td>\n",
              "      <td>1352</td>\n",
              "      <td>63.220001</td>\n",
              "      <td>0.25</td>\n",
              "      <td>174339</td>\n",
              "      <td>252.880005</td>\n",
              "      <td>0.35</td>\n",
              "      <td>1</td>\n",
              "      <td>252.880005</td>\n",
              "      <td>189.660004</td>\n",
              "      <td>66.379997</td>\n",
              "      <td>Western Europe</td>\n",
              "      <td>Auvernia-Ródano-Alpes</td>\n",
              "      <td>COMPLETE</td>\n",
              "      <td>1352</td>\n",
              "      <td>65</td>\n",
              "      <td>http://images.acmesports.sports/Industrial+con...</td>\n",
              "      <td>Industrial consumer electronics</td>\n",
              "      <td>252.880005</td>\n",
              "      <td>0</td>\n",
              "      <td>11/4/2017 18:31</td>\n",
              "      <td>First Class</td>\n",
              "    </tr>\n",
              "    <tr>\n",
              "      <th>46440</th>\n",
              "      <td>PAYMENT</td>\n",
              "      <td>4</td>\n",
              "      <td>4</td>\n",
              "      <td>10.910000</td>\n",
              "      <td>38.959999</td>\n",
              "      <td>Shipping on time</td>\n",
              "      <td>0</td>\n",
              "      <td>75</td>\n",
              "      <td>Video Games</td>\n",
              "      <td>CA</td>\n",
              "      <td>EE. UU.</td>\n",
              "      <td>XXXXXXXXX</td>\n",
              "      <td>Eugenia</td>\n",
              "      <td>17171</td>\n",
              "      <td>Slater</td>\n",
              "      <td>XXXXXXXXX</td>\n",
              "      <td>Corporate</td>\n",
              "      <td>95758</td>\n",
              "      <td>Elk Grove</td>\n",
              "      <td>NaN</td>\n",
              "      <td>9</td>\n",
              "      <td>Discs Shop</td>\n",
              "      <td>38.408573</td>\n",
              "      <td>-121.449112</td>\n",
              "      <td>Pacific Asia</td>\n",
              "      <td>Manila</td>\n",
              "      <td>Filipinas</td>\n",
              "      <td>17171</td>\n",
              "      <td>12/10/2017 15:18</td>\n",
              "      <td>73618</td>\n",
              "      <td>1362</td>\n",
              "      <td>0.800000</td>\n",
              "      <td>0.02</td>\n",
              "      <td>176933</td>\n",
              "      <td>39.750000</td>\n",
              "      <td>0.28</td>\n",
              "      <td>1</td>\n",
              "      <td>39.750000</td>\n",
              "      <td>38.959999</td>\n",
              "      <td>10.910000</td>\n",
              "      <td>Southeast Asia</td>\n",
              "      <td>Capital Nacional</td>\n",
              "      <td>PENDING_PAYMENT</td>\n",
              "      <td>1362</td>\n",
              "      <td>75</td>\n",
              "      <td>http://images.acmesports.sports/Fighting+video...</td>\n",
              "      <td>Fighting video games</td>\n",
              "      <td>39.750000</td>\n",
              "      <td>0</td>\n",
              "      <td>12/14/2017 15:18</td>\n",
              "      <td>Standard Class</td>\n",
              "    </tr>\n",
              "  </tbody>\n",
              "</table>\n",
              "</div>"
            ],
            "text/plain": [
              "          Type  Days for shipping (real)  Days for shipment (scheduled)  \\\n",
              "35704    DEBIT                         2                              1   \n",
              "46440  PAYMENT                         4                              4   \n",
              "\n",
              "       Benefit per order  Sales per customer   Delivery Status  \\\n",
              "35704          66.379997          189.660004     Late delivery   \n",
              "46440          10.910000           38.959999  Shipping on time   \n",
              "\n",
              "       Late_delivery_risk  Category Id         Category Name Customer City  \\\n",
              "35704                   1           65  Consumer Electronics            CA   \n",
              "46440                   0           75           Video Games            CA   \n",
              "\n",
              "      Customer Country Customer Email Customer Fname  Customer Id  \\\n",
              "35704          EE. UU.      XXXXXXXXX           Sara        14577   \n",
              "46440          EE. UU.      XXXXXXXXX        Eugenia        17171   \n",
              "\n",
              "      Customer Lname Customer Password Customer Segment Customer State  \\\n",
              "35704        Foreman         XXXXXXXXX         Consumer          95758   \n",
              "46440         Slater         XXXXXXXXX        Corporate          95758   \n",
              "\n",
              "      Customer Street  Customer Zipcode  Department Id Department Name  \\\n",
              "35704       Elk Grove               NaN             10      Technology   \n",
              "46440       Elk Grove               NaN              9      Discs Shop   \n",
              "\n",
              "        Latitude   Longitude        Market Order City Order Country  \\\n",
              "35704  39.134159 -123.718552        Europe    Valence       Francia   \n",
              "46440  38.408573 -121.449112  Pacific Asia     Manila     Filipinas   \n",
              "\n",
              "       Order Customer Id order date (DateOrders)  Order Id  \\\n",
              "35704              14577         11/2/2017 18:31     71024   \n",
              "46440              17171        12/10/2017 15:18     73618   \n",
              "\n",
              "       Order Item Cardprod Id  Order Item Discount  Order Item Discount Rate  \\\n",
              "35704                    1352            63.220001                      0.25   \n",
              "46440                    1362             0.800000                      0.02   \n",
              "\n",
              "       Order Item Id  Order Item Product Price  Order Item Profit Ratio  \\\n",
              "35704         174339                252.880005                     0.35   \n",
              "46440         176933                 39.750000                     0.28   \n",
              "\n",
              "       Order Item Quantity       Sales  Order Item Total  \\\n",
              "35704                    1  252.880005        189.660004   \n",
              "46440                    1   39.750000         38.959999   \n",
              "\n",
              "       Order Profit Per Order    Order Region            Order State  \\\n",
              "35704               66.379997  Western Europe  Auvernia-Ródano-Alpes   \n",
              "46440               10.910000  Southeast Asia       Capital Nacional   \n",
              "\n",
              "          Order Status  Product Card Id  Product Category Id  \\\n",
              "35704         COMPLETE             1352                   65   \n",
              "46440  PENDING_PAYMENT             1362                   75   \n",
              "\n",
              "                                           Product Image  \\\n",
              "35704  http://images.acmesports.sports/Industrial+con...   \n",
              "46440  http://images.acmesports.sports/Fighting+video...   \n",
              "\n",
              "                          Product Name  Product Price  Product Status  \\\n",
              "35704  Industrial consumer electronics     252.880005               0   \n",
              "46440             Fighting video games      39.750000               0   \n",
              "\n",
              "      shipping date (DateOrders)   Shipping Mode  \n",
              "35704            11/4/2017 18:31     First Class  \n",
              "46440           12/14/2017 15:18  Standard Class  "
            ]
          },
          "execution_count": 9,
          "metadata": {},
          "output_type": "execute_result"
        }
      ],
      "source": [
        "data[data['Customer State'] == '95758']"
      ]
    },
    {
      "cell_type": "markdown",
      "metadata": {
        "id": "iiCM6xULIXvS"
      },
      "source": [
        "None of other customers live in the same country as Sara Foreman and Eugenia Slater, so no `Order Zipcode` can be inserted."
      ]
    },
    {
      "cell_type": "code",
      "execution_count": 10,
      "metadata": {
        "colab": {
          "base_uri": "https://localhost:8080/",
          "height": 214
        },
        "id": "oiBjOEOkIpO0",
        "outputId": "9663119d-07ec-4f4d-a12a-ad7468107845"
      },
      "outputs": [
        {
          "data": {
            "text/html": [
              "<div>\n",
              "<style scoped>\n",
              "    .dataframe tbody tr th:only-of-type {\n",
              "        vertical-align: middle;\n",
              "    }\n",
              "\n",
              "    .dataframe tbody tr th {\n",
              "        vertical-align: top;\n",
              "    }\n",
              "\n",
              "    .dataframe thead th {\n",
              "        text-align: right;\n",
              "    }\n",
              "</style>\n",
              "<table border=\"1\" class=\"dataframe\">\n",
              "  <thead>\n",
              "    <tr style=\"text-align: right;\">\n",
              "      <th></th>\n",
              "      <th>Type</th>\n",
              "      <th>Days for shipping (real)</th>\n",
              "      <th>Days for shipment (scheduled)</th>\n",
              "      <th>Benefit per order</th>\n",
              "      <th>Sales per customer</th>\n",
              "      <th>Delivery Status</th>\n",
              "      <th>Late_delivery_risk</th>\n",
              "      <th>Category Id</th>\n",
              "      <th>Category Name</th>\n",
              "      <th>Customer City</th>\n",
              "      <th>Customer Country</th>\n",
              "      <th>Customer Email</th>\n",
              "      <th>Customer Fname</th>\n",
              "      <th>Customer Id</th>\n",
              "      <th>Customer Lname</th>\n",
              "      <th>Customer Password</th>\n",
              "      <th>Customer Segment</th>\n",
              "      <th>Customer State</th>\n",
              "      <th>Customer Street</th>\n",
              "      <th>Customer Zipcode</th>\n",
              "      <th>Department Id</th>\n",
              "      <th>Department Name</th>\n",
              "      <th>Latitude</th>\n",
              "      <th>Longitude</th>\n",
              "      <th>Market</th>\n",
              "      <th>Order City</th>\n",
              "      <th>Order Country</th>\n",
              "      <th>Order Customer Id</th>\n",
              "      <th>order date (DateOrders)</th>\n",
              "      <th>Order Id</th>\n",
              "      <th>Order Item Cardprod Id</th>\n",
              "      <th>Order Item Discount</th>\n",
              "      <th>Order Item Discount Rate</th>\n",
              "      <th>Order Item Id</th>\n",
              "      <th>Order Item Product Price</th>\n",
              "      <th>Order Item Profit Ratio</th>\n",
              "      <th>Order Item Quantity</th>\n",
              "      <th>Sales</th>\n",
              "      <th>Order Item Total</th>\n",
              "      <th>Order Profit Per Order</th>\n",
              "      <th>Order Region</th>\n",
              "      <th>Order State</th>\n",
              "      <th>Order Status</th>\n",
              "      <th>Product Card Id</th>\n",
              "      <th>Product Category Id</th>\n",
              "      <th>Product Image</th>\n",
              "      <th>Product Name</th>\n",
              "      <th>Product Price</th>\n",
              "      <th>Product Status</th>\n",
              "      <th>shipping date (DateOrders)</th>\n",
              "      <th>Shipping Mode</th>\n",
              "    </tr>\n",
              "  </thead>\n",
              "  <tbody>\n",
              "    <tr>\n",
              "      <th>82511</th>\n",
              "      <td>DEBIT</td>\n",
              "      <td>4</td>\n",
              "      <td>4</td>\n",
              "      <td>59.990002</td>\n",
              "      <td>299.959992</td>\n",
              "      <td>Shipping on time</td>\n",
              "      <td>0</td>\n",
              "      <td>63</td>\n",
              "      <td>Children's Clothing</td>\n",
              "      <td>CA</td>\n",
              "      <td>EE. UU.</td>\n",
              "      <td>XXXXXXXXX</td>\n",
              "      <td>Zena</td>\n",
              "      <td>14046</td>\n",
              "      <td>Elliott</td>\n",
              "      <td>XXXXXXXXX</td>\n",
              "      <td>Consumer</td>\n",
              "      <td>91732</td>\n",
              "      <td>El Monte</td>\n",
              "      <td>NaN</td>\n",
              "      <td>4</td>\n",
              "      <td>Apparel</td>\n",
              "      <td>34.071892</td>\n",
              "      <td>-118.013886</td>\n",
              "      <td>Europe</td>\n",
              "      <td>Sheffield</td>\n",
              "      <td>Reino Unido</td>\n",
              "      <td>14046</td>\n",
              "      <td>10/26/2017 0:29</td>\n",
              "      <td>70493</td>\n",
              "      <td>1350</td>\n",
              "      <td>57.139999</td>\n",
              "      <td>0.16</td>\n",
              "      <td>173808</td>\n",
              "      <td>357.100006</td>\n",
              "      <td>0.2</td>\n",
              "      <td>1</td>\n",
              "      <td>357.100006</td>\n",
              "      <td>299.959992</td>\n",
              "      <td>59.990002</td>\n",
              "      <td>Northern Europe</td>\n",
              "      <td>Inglaterra</td>\n",
              "      <td>COMPLETE</td>\n",
              "      <td>1350</td>\n",
              "      <td>63</td>\n",
              "      <td>http://images.acmesports.sports/Children+heaters</td>\n",
              "      <td>Children's heaters</td>\n",
              "      <td>357.100006</td>\n",
              "      <td>0</td>\n",
              "      <td>10/30/2017 0:29</td>\n",
              "      <td>Standard Class</td>\n",
              "    </tr>\n",
              "  </tbody>\n",
              "</table>\n",
              "</div>"
            ],
            "text/plain": [
              "        Type  Days for shipping (real)  Days for shipment (scheduled)  \\\n",
              "82511  DEBIT                         4                              4   \n",
              "\n",
              "       Benefit per order  Sales per customer   Delivery Status  \\\n",
              "82511          59.990002          299.959992  Shipping on time   \n",
              "\n",
              "       Late_delivery_risk  Category Id        Category Name Customer City  \\\n",
              "82511                   0           63  Children's Clothing            CA   \n",
              "\n",
              "      Customer Country Customer Email Customer Fname  Customer Id  \\\n",
              "82511          EE. UU.      XXXXXXXXX           Zena        14046   \n",
              "\n",
              "      Customer Lname Customer Password Customer Segment Customer State  \\\n",
              "82511        Elliott         XXXXXXXXX         Consumer          91732   \n",
              "\n",
              "      Customer Street  Customer Zipcode  Department Id Department Name  \\\n",
              "82511        El Monte               NaN              4         Apparel   \n",
              "\n",
              "        Latitude   Longitude  Market Order City Order Country  \\\n",
              "82511  34.071892 -118.013886  Europe  Sheffield   Reino Unido   \n",
              "\n",
              "       Order Customer Id order date (DateOrders)  Order Id  \\\n",
              "82511              14046         10/26/2017 0:29     70493   \n",
              "\n",
              "       Order Item Cardprod Id  Order Item Discount  Order Item Discount Rate  \\\n",
              "82511                    1350            57.139999                      0.16   \n",
              "\n",
              "       Order Item Id  Order Item Product Price  Order Item Profit Ratio  \\\n",
              "82511         173808                357.100006                      0.2   \n",
              "\n",
              "       Order Item Quantity       Sales  Order Item Total  \\\n",
              "82511                    1  357.100006        299.959992   \n",
              "\n",
              "       Order Profit Per Order     Order Region Order State Order Status  \\\n",
              "82511               59.990002  Northern Europe  Inglaterra     COMPLETE   \n",
              "\n",
              "       Product Card Id  Product Category Id  \\\n",
              "82511             1350                   63   \n",
              "\n",
              "                                          Product Image        Product Name  \\\n",
              "82511  http://images.acmesports.sports/Children+heaters  Children's heaters   \n",
              "\n",
              "       Product Price  Product Status shipping date (DateOrders)  \\\n",
              "82511     357.100006               0            10/30/2017 0:29   \n",
              "\n",
              "        Shipping Mode  \n",
              "82511  Standard Class  "
            ]
          },
          "execution_count": 10,
          "metadata": {},
          "output_type": "execute_result"
        }
      ],
      "source": [
        "data[data['Customer State'] == '91732']"
      ]
    },
    {
      "cell_type": "markdown",
      "metadata": {
        "id": "eUgm6rkNIvHg"
      },
      "source": [
        "The same info cannot be retrieved for Zena Elliott.\n",
        "<br>\n",
        "Since there are only 3 tuples that have a `NaN` value for the `Customer Zipcode` variable, we shall just replace them with a 0."
      ]
    },
    {
      "cell_type": "code",
      "execution_count": 11,
      "metadata": {
        "id": "4ZsWNJ8jItzS"
      },
      "outputs": [],
      "source": [
        "data['Customer Zipcode'].fillna('0', inplace=True)"
      ]
    },
    {
      "cell_type": "markdown",
      "metadata": {
        "id": "S6n95m0yJy1c"
      },
      "source": [
        "Let's move on.\n",
        "<br>\n",
        "We shall feature engineer some variables, like the full name of customers, and drop some other columns."
      ]
    },
    {
      "cell_type": "code",
      "execution_count": 12,
      "metadata": {
        "id": "mSRI2MDgKB9v"
      },
      "outputs": [],
      "source": [
        "data['Customer Name'] = data['Customer Fname'] + ' ' + data['Customer Lname']\n",
        "customer_name = data.pop('Customer Name')\n",
        "data.insert(data.columns.get_loc('Customer Id') + 1, 'Customer Name', customer_name)"
      ]
    },
    {
      "cell_type": "markdown",
      "metadata": {
        "id": "PHnxcwhtNHWz"
      },
      "source": [
        "We shall replace the missing names with a generic name, being only 8 samples that miss this information. Let's say Mario Rossi."
      ]
    },
    {
      "cell_type": "code",
      "execution_count": 13,
      "metadata": {
        "id": "inGxvKL9NSh_"
      },
      "outputs": [],
      "source": [
        "data['Customer Name'].fillna('Mario Rossi', inplace=True)"
      ]
    },
    {
      "cell_type": "markdown",
      "metadata": {
        "id": "YsQvh4aieAYn"
      },
      "source": [
        "To simplify our dataset, some columns containing non-useful infos are dropped."
      ]
    },
    {
      "cell_type": "code",
      "execution_count": 14,
      "metadata": {
        "id": "drMKIhN6esun"
      },
      "outputs": [],
      "source": [
        "data.drop([\n",
        "           'Customer Fname',\n",
        "           'Customer Lname',\n",
        "           'Customer Email',\n",
        "           'Customer Password',\n",
        "           'Product Status',\n",
        "           'Customer Street',\n",
        "           'Latitude',\n",
        "           'Longitude',\n",
        "           'Product Image',\n",
        "           'shipping date (DateOrders)'\n",
        "           ], axis=1, inplace=True)"
      ]
    },
    {
      "cell_type": "markdown",
      "metadata": {
        "id": "Fyl1BI3tGORL"
      },
      "source": [
        "We also note that many columns repeat themselves, meaning they have the same identical values for every sample, but they are named differently."
      ]
    },
    {
      "cell_type": "code",
      "execution_count": 15,
      "metadata": {
        "colab": {
          "base_uri": "https://localhost:8080/"
        },
        "id": "fT15HT72GNa7",
        "outputId": "80ae7558-a074-405a-fac5-02449e60b734"
      },
      "outputs": [
        {
          "data": {
            "text/plain": [
              "True"
            ]
          },
          "execution_count": 15,
          "metadata": {},
          "output_type": "execute_result"
        }
      ],
      "source": [
        "data['Order Customer Id'].equals(data['Customer Id']),\n",
        "data['Benefit per order'].equals(data['Order Profit Per Order']),\n",
        "data['Order Item Cardprod Id'].equals(data['Product Card Id']),\n",
        "data['Order Item Product Price'].equals(data['Product Price']),\n",
        "data['Product Category Id'].equals(data['Category Id'])"
      ]
    },
    {
      "cell_type": "markdown",
      "metadata": {
        "id": "1f9EvP_6GasF"
      },
      "source": [
        "We also note that `Department Id` and `Department Name` have the same purpose, so it is a repetition as well."
      ]
    },
    {
      "cell_type": "code",
      "execution_count": 16,
      "metadata": {
        "colab": {
          "base_uri": "https://localhost:8080/"
        },
        "id": "ZiRfv8SaHWnl",
        "outputId": "dd306b1c-176f-4565-b181-a9d5f2813181"
      },
      "outputs": [
        {
          "data": {
            "text/plain": [
              "True"
            ]
          },
          "execution_count": 16,
          "metadata": {},
          "output_type": "execute_result"
        }
      ],
      "source": [
        "data['Department Name'].nunique() == data['Department Id'].nunique()"
      ]
    },
    {
      "cell_type": "markdown",
      "metadata": {
        "id": "8DwvAJ-uHimw"
      },
      "source": [
        "We can definetely drop the repetitions."
      ]
    },
    {
      "cell_type": "code",
      "execution_count": 17,
      "metadata": {
        "id": "m03dBGHKG07p"
      },
      "outputs": [],
      "source": [
        "data.drop([\n",
        "           'Department Name',\n",
        "           'Order Customer Id',\n",
        "           'Order Profit Per Order',\n",
        "           'Order Item Cardprod Id',\n",
        "           'Order Item Product Price',\n",
        "           'Category Id'\n",
        "           ], inplace = True, axis = 1)"
      ]
    },
    {
      "cell_type": "code",
      "execution_count": 18,
      "metadata": {
        "id": "WEJ0yuiXeNQ-"
      },
      "outputs": [],
      "source": [
        "data.rename(columns={'Late_delivery_risk':'Late Delivery Risk'}, inplace=True)"
      ]
    },
    {
      "cell_type": "markdown",
      "metadata": {
        "id": "14wKE7b_b0xc"
      },
      "source": [
        "`Shipping Delta` stands for the difference between the real and scheduled days for shipment: the bigger the difference the slower the order arrived at destination.\n",
        "<br>\n",
        "A negative value stands for a quicker delivery."
      ]
    },
    {
      "cell_type": "code",
      "execution_count": 19,
      "metadata": {
        "id": "0T23CKfkAnpS"
      },
      "outputs": [],
      "source": [
        "data['Shipping Delta'] = data['Days for shipping (real)'] - data['Days for shipment (scheduled)']"
      ]
    },
    {
      "cell_type": "markdown",
      "metadata": {
        "id": "Lcwx2TJr1ELp"
      },
      "source": [
        "Now let's focus on the fraud detection. Being this a classification analysis, we shall have two possible answers to our questions:\n",
        "*   `True` - it is a fraud or\n",
        "*   `False` - it is not.\n",
        "<br>\n",
        "\n",
        "This said, we shall create a new column which holds `1` for a suspected fraud, and `0` for a normal transaction."
      ]
    },
    {
      "cell_type": "code",
      "execution_count": 20,
      "metadata": {
        "colab": {
          "base_uri": "https://localhost:8080/"
        },
        "id": "kHLxG_io5rx_",
        "outputId": "499c3d32-6a8f-428a-f9e3-501fd73266c5"
      },
      "outputs": [
        {
          "data": {
            "text/plain": [
              "COMPLETE           59491\n",
              "PENDING_PAYMENT    39832\n",
              "PROCESSING         21902\n",
              "PENDING            20227\n",
              "CLOSED             19616\n",
              "ON_HOLD             9804\n",
              "SUSPECTED_FRAUD     4062\n",
              "CANCELED            3692\n",
              "PAYMENT_REVIEW      1893\n",
              "Name: Order Status, dtype: int64"
            ]
          },
          "execution_count": 20,
          "metadata": {},
          "output_type": "execute_result"
        }
      ],
      "source": [
        "data['Order Status'].value_counts()"
      ]
    },
    {
      "cell_type": "code",
      "execution_count": 21,
      "metadata": {
        "id": "CC5_oSbk4NE9"
      },
      "outputs": [],
      "source": [
        "data['Fraud'] = np.where(data['Order Status'] == 'SUSPECTED_FRAUD', 1, 0)"
      ]
    },
    {
      "cell_type": "markdown",
      "metadata": {
        "id": "E5xZoRMNimYW"
      },
      "source": [
        "### **Data Visualization**\n",
        "\n",
        "\n"
      ]
    },
    {
      "cell_type": "markdown",
      "metadata": {
        "id": "3z9wt_Ndmvgz"
      },
      "source": [
        "First of all, correlations:"
      ]
    },
    {
      "cell_type": "code",
      "execution_count": 22,
      "metadata": {
        "id": "hLj9dCuZw0xl"
      },
      "outputs": [],
      "source": [
        "# Detecting features that do not contain identity values, namely the IDs\n",
        "columns = [column for column in data.columns if 'Id' not in column]"
      ]
    },
    {
      "cell_type": "code",
      "execution_count": 23,
      "metadata": {
        "colab": {
          "base_uri": "https://localhost:8080/"
        },
        "id": "eqiIRVZlgPU0",
        "outputId": "e5d4b840-27db-45c8-8d2f-436b17258870"
      },
      "outputs": [
        {
          "data": {
            "image/png": "[encoded data removed]",
            "text/plain": [
              "<Figure size 936x720 with 2 Axes>"
            ]
          },
          "metadata": {},
          "output_type": "display_data"
        }
      ],
      "source": [
        "mask = np.zeros_like(data[columns].corr())\n",
        "mask[np.triu_indices_from(mask)] = True\n",
        "\n",
        "with sns.axes_style(\"white\"):\n",
        "    f, ax = plt.subplots(figsize=(13,10))\n",
        "    ax = sns.heatmap(data[columns].corr(),\n",
        "                     mask=mask,\n",
        "                     vmax=.3,\n",
        "                     square=True,\n",
        "                     annot=True,\n",
        "                     linewidth=.1,\n",
        "                     cmap='YlGnBu',\n",
        "                     )\n",
        "    ax.set_xticklabels(\n",
        "        ax.get_xticklabels(),\n",
        "        rotation=45,\n",
        "        horizontalalignment='right'\n",
        "    )"
      ]
    },
    {
      "cell_type": "markdown",
      "metadata": {
        "id": "AqnKS-iCh2kn"
      },
      "source": [
        "From the correlation matrix different patterns are enlightened, although the majority of them are pretty intuitive:\n",
        "\n",
        "- `Price` is strongly positively related to `Sales`, `Sales per customer` and `Order Item Total` but negatively related to `Order Item Quantity`.\n",
        "- The more discount, the more sales and order total.\n",
        "\n",
        "Since no useful information is being held by these correlations, we shall move on to consider the suspected frauds in relation to other parameters."
      ]
    },
    {
      "cell_type": "markdown",
      "metadata": {
        "id": "m63aquHijnhQ"
      },
      "source": [
        "<hr>"
      ]
    },
    {
      "cell_type": "markdown",
      "metadata": {
        "id": "ml-fXvRMBmuR"
      },
      "source": [
        "**General overview of the top Markets and favorite product categories.**\n",
        "<br>\n",
        "\n",
        "The first thing that is going to be visualized is a general overview of the main data regarding how sales are distributed geographically. After that, the focus is shifted on which product category was the most sold across all the orders."
      ]
    },
    {
      "cell_type": "code",
      "execution_count": 24,
      "metadata": {
        "id": "PnI-boP8pn6W"
      },
      "outputs": [],
      "source": [
        "market = data.groupby('Market')['Sales per customer'].sum().sort_values(ascending=False)\n",
        "region = data.groupby('Order Region')['Sales per customer'].sum().sort_values(ascending=False)"
      ]
    },
    {
      "cell_type": "code",
      "execution_count": 25,
      "metadata": {
        "colab": {
          "base_uri": "https://localhost:8080/"
        },
        "id": "VL77cs2gf3zV",
        "outputId": "79e91ef2-0ca1-4d42-9ec3-73dfceaa0cd7"
      },
      "outputs": [
        {
          "data": {
            "image/png": "[encoded data removed]",
            "text/plain": [
              "<Figure size 1152x576 with 2 Axes>"
            ]
          },
          "metadata": {
            "needs_background": "light"
          },
          "output_type": "display_data"
        }
      ],
      "source": [
        "fig, ax = plt.subplots(ncols=2, figsize=(16,8))\n",
        "\n",
        "market.plot.bar(ax=ax[0],\n",
        "                title='Total Sales per Customer per Market',\n",
        "                colormap='viridis')\n",
        "\n",
        "region.plot.bar(ax=ax[1],\n",
        "                title='Total Sales per Customer per Region')\n",
        "\n",
        "plt.tight_layout();"
      ]
    },
    {
      "cell_type": "code",
      "execution_count": 26,
      "metadata": {
        "id": "PLTpHH_Jpwf2"
      },
      "outputs": [],
      "source": [
        "cat_total = data.groupby('Category Name')['Sales per customer'].sum().sort_values(ascending=False)\n",
        "cat_avg = data.groupby('Category Name')['Sales per customer'].mean().sort_values(ascending=False)"
      ]
    },
    {
      "cell_type": "code",
      "execution_count": 27,
      "metadata": {
        "colab": {
          "base_uri": "https://localhost:8080/"
        },
        "id": "6FXjMxP1ifG1",
        "outputId": "21061c96-6dfa-4304-fe57-7ba39f437f40"
      },
      "outputs": [
        {
          "data": {
            "image/png": "[encoded data removed]",
            "text/plain": [
              "<Figure size 1152x1152 with 2 Axes>"
            ]
          },
          "metadata": {
            "needs_background": "light"
          },
          "output_type": "display_data"
        }
      ],
      "source": [
        "fig, ax = plt.subplots(nrows=2, figsize=(16, 16))\n",
        "\n",
        "cat_total.plot.bar(ax=ax[0],\n",
        "                   title='Total Sales per Product Category',\n",
        "                   colormap='plasma')\n",
        "\n",
        "cat_avg.plot.bar(ax=ax[1],\n",
        "                 title='Average Sales per Product Category',\n",
        "                 colormap='Wistia')\n",
        "\n",
        "plt.tight_layout();"
      ]
    },
    {
      "cell_type": "markdown",
      "metadata": {
        "id": "GA6PdZR-rPIb"
      },
      "source": [
        "It is noticed that many orders are having a negative benefit per order. Which products have the most impact regarding this issue?"
      ]
    },
    {
      "cell_type": "code",
      "execution_count": 28,
      "metadata": {
        "colab": {
          "base_uri": "https://localhost:8080/"
        },
        "id": "e99ZHSsXupjK",
        "outputId": "611db289-07f2-4388-fbd4-3448822040a3"
      },
      "outputs": [
        {
          "name": "stdout",
          "output_type": "stream",
          "text": [
            "The percentage of orders with negative benefit is 18.71%\n"
          ]
        }
      ],
      "source": [
        "print('The percentage of orders with negative benefit is {}%'.format(\n",
        "    round(data['Benefit per order'][data['Benefit per order'] < 0].count() / data['Benefit per order'].count() * 100, 2)\n",
        "))"
      ]
    },
    {
      "cell_type": "code",
      "execution_count": 29,
      "metadata": {
        "colab": {
          "base_uri": "https://localhost:8080/"
        },
        "id": "5dqXnE6_OT97",
        "outputId": "104b0595-5723-4879-c442-461f5fdbe0e8"
      },
      "outputs": [
        {
          "data": {
            "text/plain": [
              "<AxesSubplot:>"
            ]
          },
          "execution_count": 29,
          "metadata": {},
          "output_type": "execute_result"
        },
        {
          "data": {
            "image/png": "[encoded data removed]",
            "text/plain": [
              "<Figure size 720x504 with 1 Axes>"
            ]
          },
          "metadata": {
            "needs_background": "light"
          },
          "output_type": "display_data"
        }
      ],
      "source": [
        "data['Category Name'][data['Benefit per order'] < 0].value_counts().nlargest(10).plot.barh(figsize=(10,7))"
      ]
    },
    {
      "cell_type": "markdown",
      "metadata": {
        "id": "RZWWQGIS-PFl"
      },
      "source": [
        "And which Regions?"
      ]
    },
    {
      "cell_type": "code",
      "execution_count": 30,
      "metadata": {
        "colab": {
          "base_uri": "https://localhost:8080/"
        },
        "id": "XnYfJkVj-WhF",
        "outputId": "4c3f7cc9-68d7-4f70-9397-c1a8af2de822"
      },
      "outputs": [
        {
          "data": {
            "text/plain": [
              "<AxesSubplot:>"
            ]
          },
          "execution_count": 30,
          "metadata": {},
          "output_type": "execute_result"
        },
        {
          "data": {
            "image/png": "[encoded data removed]",
            "text/plain": [
              "<Figure size 720x504 with 1 Axes>"
            ]
          },
          "metadata": {
            "needs_background": "light"
          },
          "output_type": "display_data"
        }
      ],
      "source": [
        "data['Order Region'][data['Benefit per order'] < 0].value_counts().nlargest(10).plot.bar(figsize=(10,7), color='red')"
      ]
    },
    {
      "cell_type": "markdown",
      "metadata": {
        "id": "eM9tY5OF-uMb"
      },
      "source": [
        "Total amount lost:"
      ]
    },
    {
      "cell_type": "code",
      "execution_count": 31,
      "metadata": {
        "colab": {
          "base_uri": "https://localhost:8080/"
        },
        "id": "4ukXqDBN-A4t",
        "outputId": "4cfa6e39-de7c-4ad3-930d-6f3af2a47030"
      },
      "outputs": [
        {
          "name": "stdout",
          "output_type": "stream",
          "text": [
            "Total revenue lost with the loss orders: -3883547.345768667\n"
          ]
        }
      ],
      "source": [
        "print('Total revenue lost with the loss orders:', data['Benefit per order'][data['Benefit per order'] < 0].sum())"
      ]
    },
    {
      "cell_type": "markdown",
      "metadata": {
        "id": "rPFy7uIK_HXX"
      },
      "source": [
        "The total loss sales are approximately 3.9 Millions which is an huge amount. It can be seen that *cleats* is the category with most loss sales followed by *mens footwear*. Most lost sales are happening in *Central America* and *Western Europe* regions. This lost sales may have happened due to suspected frauds or due to inefficiencies in the supply chain process."
      ]
    },
    {
      "cell_type": "markdown",
      "metadata": {
        "id": "tOXr2wlSjr2I"
      },
      "source": [
        "<hr>"
      ]
    },
    {
      "cell_type": "markdown",
      "metadata": {
        "id": "bKkKZRB2sSyA"
      },
      "source": [
        "**Preferred payment methods**\n",
        "<br>\n",
        "Here it is shown the usage of different payment methods across all the order regions to point out the most preferred ones."
      ]
    },
    {
      "cell_type": "code",
      "execution_count": 32,
      "metadata": {
        "id": "vvWBKuXU3gor"
      },
      "outputs": [],
      "source": [
        "debit = data[data['Type']== 'DEBIT'].groupby('Order Region')['Customer Id'].count()\n",
        "transfer = data[data['Type']== 'TRANSFER'].groupby('Order Region')['Customer Id'].count()\n",
        "cash = data[data['Type']== 'CASH'].groupby('Order Region')['Customer Id'].count()\n",
        "payment = data[data['Type']== 'PAYMENT'].groupby('Order Region')['Customer Id'].count()"
      ]
    },
    {
      "cell_type": "code",
      "execution_count": 33,
      "metadata": {
        "colab": {
          "base_uri": "https://localhost:8080/"
        },
        "id": "WyEzLp_ekEto",
        "outputId": "a6b19a83-0998-4bfc-c6fd-05004fa0f5a2"
      },
      "outputs": [
        {
          "data": {
            "image/png": "[encoded data removed]",
            "text/plain": [
              "<Figure size 1152x576 with 1 Axes>"
            ]
          },
          "metadata": {
            "needs_background": "light"
          },
          "output_type": "display_data"
        }
      ],
      "source": [
        "preferred_payment_region = pd.concat([debit, transfer, cash, payment], axis = 1)\n",
        "preferred_payment_region.columns = ['DEBIT', 'TRANSFER', 'CASH', 'PAYMENT']\n",
        "preferred_payment_region = preferred_payment_region.sort_values(by='DEBIT', ascending=False)\n",
        "\n",
        "preferred_payment_region.plot.bar(figsize=(16,8))\n",
        "plt.tight_layout();"
      ]
    },
    {
      "cell_type": "markdown",
      "metadata": {
        "id": "iVANmY9G9HyB"
      },
      "source": [
        "*Debit* type is most preferred payment method by people in all regions, *Cash* payment being the least preferred method."
      ]
    },
    {
      "cell_type": "markdown",
      "metadata": {
        "id": "glkVjM7s9J48"
      },
      "source": [
        "-----------------"
      ]
    },
    {
      "cell_type": "markdown",
      "metadata": {
        "id": "gIpfnvMD9EtK"
      },
      "source": [
        "**Analysis of fraudolent data**\n",
        "<br>\n",
        "Now, let's move on by analyzing the fraudolent orders in the dataset in order to notice and discover features or patterns that can conduct to a correct classification of a possible fraudolent order.\n",
        "<br>\n",
        "At first, a topdown approach is used to show the spread of suspected fraudolent orders starting from MARKETS, then REGIONS and finally the specific countries in the most fraudolent region."
      ]
    },
    {
      "cell_type": "code",
      "execution_count": 34,
      "metadata": {
        "id": "xGACclpU3mZc"
      },
      "outputs": [],
      "source": [
        "fraud_markets = data[data['Order Status'] == 'SUSPECTED_FRAUD'].groupby('Market')['Customer Id'].count().sort_values(ascending=False)\n",
        "fraud_regions = data[data['Order Status']== 'SUSPECTED_FRAUD'].groupby('Order Region')['Customer Id'].count().sort_values(ascending=False)\n",
        "fraud_western_eu = data[(data['Order Status']== 'SUSPECTED_FRAUD') & (data['Order Region'] == 'Western Europe')].groupby('Order Country')['Customer Id'].count().sort_values(ascending=False)"
      ]
    },
    {
      "cell_type": "code",
      "execution_count": 35,
      "metadata": {
        "colab": {
          "base_uri": "https://localhost:8080/"
        },
        "id": "YsGtp7opkQKv",
        "outputId": "6d1205d6-8f7c-4465-90c4-885997d7b090"
      },
      "outputs": [
        {
          "data": {
            "image/png": "[encoded data removed]",
            "text/plain": [
              "<Figure size 1368x1584 with 3 Axes>"
            ]
          },
          "metadata": {},
          "output_type": "display_data"
        }
      ],
      "source": [
        "fig, ax = plt.subplots(ncols=3, figsize=(19, 22))\n",
        "\n",
        "fraud_markets.plot.pie(ax=ax[0],\n",
        "                       startangle=0,\n",
        "                       autopct='%.1f',\n",
        "                       shadow=True,\n",
        "                       title='Suspected frauds by market',\n",
        "                       ylabel=\" \")\n",
        "\n",
        "fraud_regions.plot.pie(ax=ax[1],\n",
        "                       startangle=180,\n",
        "                       explode=(0.1,0,0,0,0,0,0,0,0,0,0,0,0,0,0,0,0,0,0,0,0,0,0),\n",
        "                       autopct='%.1f',\n",
        "                       shadow=True,\n",
        "                       title='Suspected frauds by region',\n",
        "                       ylabel= \" \")\n",
        "\n",
        "fraud_western_eu.plot.pie(ax=ax[2],\n",
        "                          startangle=60,\n",
        "                          autopct='%.1f',\n",
        "                          shadow=True,\n",
        "                          title='Suspected frauds by western european country',\n",
        "                          ylabel=\" \")\n",
        "\n",
        "plt.tight_layout();"
      ]
    },
    {
      "cell_type": "markdown",
      "metadata": {
        "id": "DVWwsZUJ9Awj"
      },
      "source": [
        "---------"
      ]
    },
    {
      "cell_type": "markdown",
      "metadata": {
        "id": "0Sxsjlzo88pT"
      },
      "source": [
        "*A dataframe containing only data with suspected frauds is created in order to ease the analysis going forward.*"
      ]
    },
    {
      "cell_type": "code",
      "execution_count": 36,
      "metadata": {
        "id": "aRqJA8dZ3pzY"
      },
      "outputs": [],
      "source": [
        "fraud_df = data[data['Fraud'] == 1]"
      ]
    },
    {
      "cell_type": "code",
      "execution_count": 37,
      "metadata": {
        "id": "oJyjEUcAlO6l"
      },
      "outputs": [],
      "source": [
        "wes_eu = fraud_df[fraud_df['Order Region'] == 'Western Europe'].groupby('Category Name')['Customer Id'].count().nlargest(9).sort_values(ascending=False)\n",
        "no_wes_eu = fraud_df[fraud_df['Order Region'] != 'Western Europe'].groupby('Category Name')['Product Category Id'].count().nlargest(9).sort_values(ascending=False)\n",
        "stacked_df = pd.concat([wes_eu, no_wes_eu], axis=1)\n",
        "stacked_df.rename(columns={'Customer Id':'Western EU', 'Product Category Id':'Rest of World'}, inplace=True)"
      ]
    },
    {
      "cell_type": "code",
      "execution_count": 38,
      "metadata": {
        "colab": {
          "base_uri": "https://localhost:8080/"
        },
        "id": "SWEjHkWV3rjq",
        "outputId": "f3606ef3-932f-42dc-c294-3ef1a5205ad7"
      },
      "outputs": [
        {
          "data": {
            "text/plain": [
              "Text(0, 0.5, '')"
            ]
          },
          "execution_count": 38,
          "metadata": {},
          "output_type": "execute_result"
        },
        {
          "data": {
            "text/plain": [
              "<Figure size 936x720 with 0 Axes>"
            ]
          },
          "metadata": {},
          "output_type": "display_data"
        },
        {
          "data": {
            "image/png": "[encoded data removed]",
            "text/plain": [
              "<Figure size 936x720 with 1 Axes>"
            ]
          },
          "metadata": {
            "needs_background": "light"
          },
          "output_type": "display_data"
        }
      ],
      "source": [
        "#Products with the highest Fraud detection (highlighting western EU vs Rest of World)\n",
        "plt.figure(figsize=(13,10))\n",
        "\n",
        "stacked_df.plot.barh(stacked=True, figsize=(13,10), colormap='viridis')\n",
        "\n",
        "plt.title('Products with the highest fraud detection', fontsize=16)\n",
        "plt.xlabel('')\n",
        "plt.ylabel('')"
      ]
    },
    {
      "cell_type": "markdown",
      "metadata": {
        "id": "jvIaQSJ6lWqJ"
      },
      "source": [
        "<hr />"
      ]
    },
    {
      "cell_type": "markdown",
      "metadata": {
        "id": "jrXoU47O3tX0"
      },
      "source": [
        "**Frauds by payment method**"
      ]
    },
    {
      "cell_type": "code",
      "execution_count": 39,
      "metadata": {
        "colab": {
          "base_uri": "https://localhost:8080/"
        },
        "id": "nYPtXF8o4yAk",
        "outputId": "3cc16946-af72-4d93-b483-6323a0864318"
      },
      "outputs": [
        {
          "data": {
            "text/plain": [
              "TRANSFER    4062\n",
              "Name: Type, dtype: int64"
            ]
          },
          "execution_count": 39,
          "metadata": {},
          "output_type": "execute_result"
        }
      ],
      "source": [
        "data[data['Fraud'] == 1]['Type'].value_counts()"
      ]
    },
    {
      "cell_type": "markdown",
      "metadata": {
        "id": "xsaGqwjd302b"
      },
      "source": [
        "*None of the suspected fraud orders have been made with a payment method different from TRANSFER.*"
      ]
    },
    {
      "cell_type": "markdown",
      "metadata": {
        "id": "bs09B12y8pzj"
      },
      "source": [
        "While the non-fraudolent orders are well diversified:"
      ]
    },
    {
      "cell_type": "code",
      "execution_count": 40,
      "metadata": {
        "colab": {
          "base_uri": "https://localhost:8080/"
        },
        "id": "96JnZ6QS3weR",
        "outputId": "c3788522-26d0-4382-b7e8-f765e7ca4e26"
      },
      "outputs": [
        {
          "data": {
            "text/plain": [
              "(array([0, 1, 2, 3]),\n",
              " [Text(0, 0, 'DEBIT'),\n",
              "  Text(1, 0, 'TRANSFER'),\n",
              "  Text(2, 0, 'PAYMENT'),\n",
              "  Text(3, 0, 'CASH')])"
            ]
          },
          "execution_count": 40,
          "metadata": {},
          "output_type": "execute_result"
        },
        {
          "data": {
            "image/png": "[encoded data removed]",
            "text/plain": [
              "<Figure size 864x648 with 1 Axes>"
            ]
          },
          "metadata": {
            "needs_background": "light"
          },
          "output_type": "display_data"
        }
      ],
      "source": [
        "plt.figure(figsize=(12,9))\n",
        "data[data['Fraud'] != 1]['Type'].value_counts().plot.bar(colormap='viridis')\n",
        "plt.title('Most used payment method', fontsize=16)\n",
        "plt.ylabel('Sum of payment method')\n",
        "plt.xticks(rotation=45)"
      ]
    },
    {
      "cell_type": "code",
      "execution_count": 41,
      "metadata": {
        "colab": {
          "base_uri": "https://localhost:8080/"
        },
        "id": "6WaAIHli3x8f",
        "outputId": "1f72253f-a60e-4b0c-91ed-994e75dfd95c"
      },
      "outputs": [
        {
          "data": {
            "text/plain": [
              "DEBIT       69295\n",
              "TRANSFER    45821\n",
              "PAYMENT     41725\n",
              "CASH        19616\n",
              "Name: Type, dtype: int64"
            ]
          },
          "execution_count": 41,
          "metadata": {},
          "output_type": "execute_result"
        }
      ],
      "source": [
        "data[data['Fraud'] != 1]['Type'].value_counts()"
      ]
    },
    {
      "cell_type": "markdown",
      "metadata": {
        "id": "YUvGbRTm8clu"
      },
      "source": [
        "There are 3 different types of Customer Segments in the dataset, let's visualize how the fraudolent orders are distributed between them.\n"
      ]
    },
    {
      "cell_type": "code",
      "execution_count": 42,
      "metadata": {
        "colab": {
          "base_uri": "https://localhost:8080/"
        },
        "id": "uIOwj2h735H5",
        "outputId": "929d2707-c3ab-4908-e90f-4559eed2e506"
      },
      "outputs": [
        {
          "data": {
            "image/png": "[encoded data removed]",
            "text/plain": [
              "<Figure size 720x504 with 1 Axes>"
            ]
          },
          "metadata": {
            "needs_background": "light"
          },
          "output_type": "display_data"
        }
      ],
      "source": [
        "plt.figure(figsize=(10,7))\n",
        "sns.countplot(x='Customer Segment', data=fraud_df)\n",
        "plt.tight_layout();"
      ]
    },
    {
      "cell_type": "markdown",
      "metadata": {
        "id": "GenjLVijxzPV"
      },
      "source": [
        "More than half of suspected fraud orders are made by the consumer customer segment."
      ]
    },
    {
      "cell_type": "markdown",
      "metadata": {
        "id": "wwINgohy8YmQ"
      },
      "source": [
        "---------------"
      ]
    },
    {
      "cell_type": "markdown",
      "metadata": {
        "id": "SBxE0Ey_8QAQ"
      },
      "source": [
        "One of the last thing shown is whether the shipping mode and the delay of a product can play a role in the dection of fraudolent orders."
      ]
    },
    {
      "cell_type": "code",
      "execution_count": 43,
      "metadata": {
        "colab": {
          "base_uri": "https://localhost:8080/"
        },
        "id": "oLlF4lPc36fp",
        "outputId": "776ffc1a-2943-4422-f0e1-cacf56a36b30"
      },
      "outputs": [
        {
          "data": {
            "text/plain": [
              "<matplotlib.legend.Legend at 0x7fa580e5c5b0>"
            ]
          },
          "execution_count": 43,
          "metadata": {},
          "output_type": "execute_result"
        },
        {
          "data": {
            "image/png": "[encoded data removed]",
            "text/plain": [
              "<Figure size 720x504 with 1 Axes>"
            ]
          },
          "metadata": {
            "needs_background": "light"
          },
          "output_type": "display_data"
        }
      ],
      "source": [
        "#FRAUDS BY Shipping Time (real) - Shipping time (scheduled) regarding the Shipping Mode\n",
        "plt.figure(figsize=(10,7))\n",
        "\n",
        "sns.countplot(x='Shipping Delta', hue='Shipping Mode', data=fraud_df)\n",
        "\n",
        "plt.tight_layout()\n",
        "plt.legend(loc='upper right')"
      ]
    },
    {
      "cell_type": "markdown",
      "metadata": {
        "id": "5C1X_03h8ImU"
      },
      "source": [
        "We can see that most of the target orders are standard class, with also a huge spike of the *First Class* mode. The delay or not of a product does not play a significant role in the classification of a suspected fraud order."
      ]
    },
    {
      "cell_type": "markdown",
      "metadata": {
        "id": "fc4__8V48Hk7"
      },
      "source": [
        "----------"
      ]
    },
    {
      "cell_type": "markdown",
      "metadata": {
        "id": "b3enhqhe0Dzg"
      },
      "source": [
        "Which specific customers made the most frauds?"
      ]
    },
    {
      "cell_type": "code",
      "execution_count": 44,
      "metadata": {
        "colab": {
          "base_uri": "https://localhost:8080/"
        },
        "id": "rQn34rFc3736",
        "outputId": "844a9813-f3e3-40aa-bbb3-c3406b361b45"
      },
      "outputs": [
        {
          "data": {
            "image/png": "[encoded data removed]",
            "text/plain": [
              "<Figure size 720x504 with 1 Axes>"
            ]
          },
          "metadata": {
            "needs_background": "light"
          },
          "output_type": "display_data"
        }
      ],
      "source": [
        "fraud_df['Customer Name'].value_counts().nlargest(10).plot.barh(figsize=(10,7), colormap='coolwarm')\n",
        "plt.tight_layout()"
      ]
    },
    {
      "cell_type": "code",
      "execution_count": 45,
      "metadata": {
        "colab": {
          "base_uri": "https://localhost:8080/"
        },
        "id": "XiqPdj9y39UY",
        "outputId": "8172fe88-0a99-48e7-a533-5820af60cb51"
      },
      "outputs": [
        {
          "data": {
            "text/html": [
              "<div>\n",
              "<style scoped>\n",
              "    .dataframe tbody tr th:only-of-type {\n",
              "        vertical-align: middle;\n",
              "    }\n",
              "\n",
              "    .dataframe tbody tr th {\n",
              "        vertical-align: top;\n",
              "    }\n",
              "\n",
              "    .dataframe thead th {\n",
              "        text-align: right;\n",
              "    }\n",
              "</style>\n",
              "<table border=\"1\" class=\"dataframe\">\n",
              "  <thead>\n",
              "    <tr style=\"text-align: right;\">\n",
              "      <th></th>\n",
              "      <th>Type</th>\n",
              "      <th>Days for shipping (real)</th>\n",
              "      <th>Days for shipment (scheduled)</th>\n",
              "      <th>Benefit per order</th>\n",
              "      <th>Sales per customer</th>\n",
              "      <th>Delivery Status</th>\n",
              "      <th>Late Delivery Risk</th>\n",
              "      <th>Category Name</th>\n",
              "      <th>Customer City</th>\n",
              "      <th>Customer Country</th>\n",
              "      <th>Customer Id</th>\n",
              "      <th>Customer Name</th>\n",
              "      <th>Customer Segment</th>\n",
              "      <th>Customer State</th>\n",
              "      <th>Customer Zipcode</th>\n",
              "      <th>Department Id</th>\n",
              "      <th>Market</th>\n",
              "      <th>Order City</th>\n",
              "      <th>Order Country</th>\n",
              "      <th>order date (DateOrders)</th>\n",
              "      <th>Order Id</th>\n",
              "      <th>Order Item Discount</th>\n",
              "      <th>Order Item Discount Rate</th>\n",
              "      <th>Order Item Id</th>\n",
              "      <th>Order Item Profit Ratio</th>\n",
              "      <th>Order Item Quantity</th>\n",
              "      <th>Sales</th>\n",
              "      <th>Order Item Total</th>\n",
              "      <th>Order Region</th>\n",
              "      <th>Order State</th>\n",
              "      <th>Order Status</th>\n",
              "      <th>Product Card Id</th>\n",
              "      <th>Product Category Id</th>\n",
              "      <th>Product Name</th>\n",
              "      <th>Product Price</th>\n",
              "      <th>Shipping Mode</th>\n",
              "      <th>Shipping Delta</th>\n",
              "      <th>Fraud</th>\n",
              "    </tr>\n",
              "  </thead>\n",
              "  <tbody>\n",
              "    <tr>\n",
              "      <th>687</th>\n",
              "      <td>TRANSFER</td>\n",
              "      <td>6</td>\n",
              "      <td>4</td>\n",
              "      <td>87.279999</td>\n",
              "      <td>193.949997</td>\n",
              "      <td>Shipping canceled</td>\n",
              "      <td>0</td>\n",
              "      <td>Shop By Sport</td>\n",
              "      <td>Caguas</td>\n",
              "      <td>Puerto Rico</td>\n",
              "      <td>2813</td>\n",
              "      <td>Mary Smith</td>\n",
              "      <td>Consumer</td>\n",
              "      <td>PR</td>\n",
              "      <td>725.0</td>\n",
              "      <td>5</td>\n",
              "      <td>LATAM</td>\n",
              "      <td>Atlixco</td>\n",
              "      <td>México</td>\n",
              "      <td>2/22/2015 21:38</td>\n",
              "      <td>3625</td>\n",
              "      <td>6.000000</td>\n",
              "      <td>0.03</td>\n",
              "      <td>9026</td>\n",
              "      <td>0.45</td>\n",
              "      <td>5</td>\n",
              "      <td>199.949997</td>\n",
              "      <td>193.949997</td>\n",
              "      <td>Central America</td>\n",
              "      <td>Puebla</td>\n",
              "      <td>SUSPECTED_FRAUD</td>\n",
              "      <td>627</td>\n",
              "      <td>29</td>\n",
              "      <td>Under Armour Girls' Toddler Spine Surge Runni</td>\n",
              "      <td>39.990002</td>\n",
              "      <td>Standard Class</td>\n",
              "      <td>2</td>\n",
              "      <td>1</td>\n",
              "    </tr>\n",
              "    <tr>\n",
              "      <th>749</th>\n",
              "      <td>TRANSFER</td>\n",
              "      <td>3</td>\n",
              "      <td>4</td>\n",
              "      <td>-63.160000</td>\n",
              "      <td>191.970001</td>\n",
              "      <td>Shipping canceled</td>\n",
              "      <td>0</td>\n",
              "      <td>Cleats</td>\n",
              "      <td>Brooklyn</td>\n",
              "      <td>EE. UU.</td>\n",
              "      <td>9419</td>\n",
              "      <td>Mary Smith</td>\n",
              "      <td>Consumer</td>\n",
              "      <td>NY</td>\n",
              "      <td>11207.0</td>\n",
              "      <td>4</td>\n",
              "      <td>Africa</td>\n",
              "      <td>Cairo</td>\n",
              "      <td>Egipto</td>\n",
              "      <td>11/2/2016 6:56</td>\n",
              "      <td>45987</td>\n",
              "      <td>47.990002</td>\n",
              "      <td>0.20</td>\n",
              "      <td>114931</td>\n",
              "      <td>-0.33</td>\n",
              "      <td>4</td>\n",
              "      <td>239.960007</td>\n",
              "      <td>191.970001</td>\n",
              "      <td>North Africa</td>\n",
              "      <td>El Cairo</td>\n",
              "      <td>SUSPECTED_FRAUD</td>\n",
              "      <td>365</td>\n",
              "      <td>17</td>\n",
              "      <td>Perfect Fitness Perfect Rip Deck</td>\n",
              "      <td>59.990002</td>\n",
              "      <td>Standard Class</td>\n",
              "      <td>-1</td>\n",
              "      <td>1</td>\n",
              "    </tr>\n",
              "    <tr>\n",
              "      <th>754</th>\n",
              "      <td>TRANSFER</td>\n",
              "      <td>3</td>\n",
              "      <td>4</td>\n",
              "      <td>20.000000</td>\n",
              "      <td>160.000000</td>\n",
              "      <td>Shipping canceled</td>\n",
              "      <td>0</td>\n",
              "      <td>Women's Apparel</td>\n",
              "      <td>Brooklyn</td>\n",
              "      <td>EE. UU.</td>\n",
              "      <td>9419</td>\n",
              "      <td>Mary Smith</td>\n",
              "      <td>Consumer</td>\n",
              "      <td>NY</td>\n",
              "      <td>11207.0</td>\n",
              "      <td>5</td>\n",
              "      <td>Africa</td>\n",
              "      <td>Cairo</td>\n",
              "      <td>Egipto</td>\n",
              "      <td>11/2/2016 6:56</td>\n",
              "      <td>45987</td>\n",
              "      <td>40.000000</td>\n",
              "      <td>0.20</td>\n",
              "      <td>114932</td>\n",
              "      <td>0.13</td>\n",
              "      <td>4</td>\n",
              "      <td>200.000000</td>\n",
              "      <td>160.000000</td>\n",
              "      <td>North Africa</td>\n",
              "      <td>El Cairo</td>\n",
              "      <td>SUSPECTED_FRAUD</td>\n",
              "      <td>502</td>\n",
              "      <td>24</td>\n",
              "      <td>Nike Men's Dri-FIT Victory Golf Polo</td>\n",
              "      <td>50.000000</td>\n",
              "      <td>Standard Class</td>\n",
              "      <td>-1</td>\n",
              "      <td>1</td>\n",
              "    </tr>\n",
              "    <tr>\n",
              "      <th>1791</th>\n",
              "      <td>TRANSFER</td>\n",
              "      <td>2</td>\n",
              "      <td>4</td>\n",
              "      <td>81.470001</td>\n",
              "      <td>232.759995</td>\n",
              "      <td>Shipping canceled</td>\n",
              "      <td>0</td>\n",
              "      <td>Cleats</td>\n",
              "      <td>Tonawanda</td>\n",
              "      <td>EE. UU.</td>\n",
              "      <td>11073</td>\n",
              "      <td>Mary Smith</td>\n",
              "      <td>Consumer</td>\n",
              "      <td>NY</td>\n",
              "      <td>14150.0</td>\n",
              "      <td>4</td>\n",
              "      <td>Europe</td>\n",
              "      <td>Bordeaux</td>\n",
              "      <td>Francia</td>\n",
              "      <td>8/30/2017 17:12</td>\n",
              "      <td>66636</td>\n",
              "      <td>7.200000</td>\n",
              "      <td>0.03</td>\n",
              "      <td>166570</td>\n",
              "      <td>0.35</td>\n",
              "      <td>4</td>\n",
              "      <td>239.960007</td>\n",
              "      <td>232.759995</td>\n",
              "      <td>Western Europe</td>\n",
              "      <td>Aquitania-Lemosín-Poitou-Charentes</td>\n",
              "      <td>SUSPECTED_FRAUD</td>\n",
              "      <td>365</td>\n",
              "      <td>17</td>\n",
              "      <td>Perfect Fitness Perfect Rip Deck</td>\n",
              "      <td>59.990002</td>\n",
              "      <td>Standard Class</td>\n",
              "      <td>-2</td>\n",
              "      <td>1</td>\n",
              "    </tr>\n",
              "    <tr>\n",
              "      <th>1893</th>\n",
              "      <td>TRANSFER</td>\n",
              "      <td>6</td>\n",
              "      <td>4</td>\n",
              "      <td>94.839996</td>\n",
              "      <td>278.950012</td>\n",
              "      <td>Shipping canceled</td>\n",
              "      <td>0</td>\n",
              "      <td>Cleats</td>\n",
              "      <td>Caguas</td>\n",
              "      <td>Puerto Rico</td>\n",
              "      <td>7270</td>\n",
              "      <td>Mary Smith</td>\n",
              "      <td>Consumer</td>\n",
              "      <td>PR</td>\n",
              "      <td>725.0</td>\n",
              "      <td>4</td>\n",
              "      <td>Pacific Asia</td>\n",
              "      <td>Nellore</td>\n",
              "      <td>India</td>\n",
              "      <td>12/26/2015 19:38</td>\n",
              "      <td>24650</td>\n",
              "      <td>21.000000</td>\n",
              "      <td>0.07</td>\n",
              "      <td>61721</td>\n",
              "      <td>0.34</td>\n",
              "      <td>5</td>\n",
              "      <td>299.950012</td>\n",
              "      <td>278.950012</td>\n",
              "      <td>South Asia</td>\n",
              "      <td>Andhra Pradesh</td>\n",
              "      <td>SUSPECTED_FRAUD</td>\n",
              "      <td>365</td>\n",
              "      <td>17</td>\n",
              "      <td>Perfect Fitness Perfect Rip Deck</td>\n",
              "      <td>59.990002</td>\n",
              "      <td>Standard Class</td>\n",
              "      <td>2</td>\n",
              "      <td>1</td>\n",
              "    </tr>\n",
              "  </tbody>\n",
              "</table>\n",
              "</div>"
            ],
            "text/plain": [
              "          Type  Days for shipping (real)  Days for shipment (scheduled)  \\\n",
              "687   TRANSFER                         6                              4   \n",
              "749   TRANSFER                         3                              4   \n",
              "754   TRANSFER                         3                              4   \n",
              "1791  TRANSFER                         2                              4   \n",
              "1893  TRANSFER                         6                              4   \n",
              "\n",
              "      Benefit per order  Sales per customer    Delivery Status  \\\n",
              "687           87.279999          193.949997  Shipping canceled   \n",
              "749          -63.160000          191.970001  Shipping canceled   \n",
              "754           20.000000          160.000000  Shipping canceled   \n",
              "1791          81.470001          232.759995  Shipping canceled   \n",
              "1893          94.839996          278.950012  Shipping canceled   \n",
              "\n",
              "      Late Delivery Risk    Category Name Customer City Customer Country  \\\n",
              "687                    0    Shop By Sport        Caguas      Puerto Rico   \n",
              "749                    0           Cleats      Brooklyn          EE. UU.   \n",
              "754                    0  Women's Apparel      Brooklyn          EE. UU.   \n",
              "1791                   0           Cleats     Tonawanda          EE. UU.   \n",
              "1893                   0           Cleats        Caguas      Puerto Rico   \n",
              "\n",
              "      Customer Id Customer Name Customer Segment Customer State  \\\n",
              "687          2813    Mary Smith         Consumer             PR   \n",
              "749          9419    Mary Smith         Consumer             NY   \n",
              "754          9419    Mary Smith         Consumer             NY   \n",
              "1791        11073    Mary Smith         Consumer             NY   \n",
              "1893         7270    Mary Smith         Consumer             PR   \n",
              "\n",
              "     Customer Zipcode  Department Id        Market Order City Order Country  \\\n",
              "687             725.0              5         LATAM    Atlixco        México   \n",
              "749           11207.0              4        Africa      Cairo        Egipto   \n",
              "754           11207.0              5        Africa      Cairo        Egipto   \n",
              "1791          14150.0              4        Europe   Bordeaux       Francia   \n",
              "1893            725.0              4  Pacific Asia    Nellore         India   \n",
              "\n",
              "     order date (DateOrders)  Order Id  Order Item Discount  \\\n",
              "687          2/22/2015 21:38      3625             6.000000   \n",
              "749           11/2/2016 6:56     45987            47.990002   \n",
              "754           11/2/2016 6:56     45987            40.000000   \n",
              "1791         8/30/2017 17:12     66636             7.200000   \n",
              "1893        12/26/2015 19:38     24650            21.000000   \n",
              "\n",
              "      Order Item Discount Rate  Order Item Id  Order Item Profit Ratio  \\\n",
              "687                       0.03           9026                     0.45   \n",
              "749                       0.20         114931                    -0.33   \n",
              "754                       0.20         114932                     0.13   \n",
              "1791                      0.03         166570                     0.35   \n",
              "1893                      0.07          61721                     0.34   \n",
              "\n",
              "      Order Item Quantity       Sales  Order Item Total     Order Region  \\\n",
              "687                     5  199.949997        193.949997  Central America   \n",
              "749                     4  239.960007        191.970001     North Africa   \n",
              "754                     4  200.000000        160.000000     North Africa   \n",
              "1791                    4  239.960007        232.759995   Western Europe   \n",
              "1893                    5  299.950012        278.950012       South Asia   \n",
              "\n",
              "                             Order State     Order Status  Product Card Id  \\\n",
              "687                               Puebla  SUSPECTED_FRAUD              627   \n",
              "749                             El Cairo  SUSPECTED_FRAUD              365   \n",
              "754                             El Cairo  SUSPECTED_FRAUD              502   \n",
              "1791  Aquitania-Lemosín-Poitou-Charentes  SUSPECTED_FRAUD              365   \n",
              "1893                      Andhra Pradesh  SUSPECTED_FRAUD              365   \n",
              "\n",
              "      Product Category Id                                   Product Name  \\\n",
              "687                    29  Under Armour Girls' Toddler Spine Surge Runni   \n",
              "749                    17               Perfect Fitness Perfect Rip Deck   \n",
              "754                    24           Nike Men's Dri-FIT Victory Golf Polo   \n",
              "1791                   17               Perfect Fitness Perfect Rip Deck   \n",
              "1893                   17               Perfect Fitness Perfect Rip Deck   \n",
              "\n",
              "      Product Price   Shipping Mode  Shipping Delta  Fraud  \n",
              "687       39.990002  Standard Class               2      1  \n",
              "749       59.990002  Standard Class              -1      1  \n",
              "754       50.000000  Standard Class              -1      1  \n",
              "1791      59.990002  Standard Class              -2      1  \n",
              "1893      59.990002  Standard Class               2      1  "
            ]
          },
          "execution_count": 45,
          "metadata": {},
          "output_type": "execute_result"
        }
      ],
      "source": [
        "fraud_df[fraud_df['Customer Name'] == 'Mary Smith'].head(5)"
      ]
    },
    {
      "cell_type": "markdown",
      "metadata": {
        "id": "_oV267Zw4jXh"
      },
      "source": [
        "Seems like `Mary Smith` caused a lot of problems to companies, but it's hard to believe she made all those order (more or less, 500), which definetely outnumbers all the other customers.\n",
        "<br>\n",
        "We shall find out if she's likely a real person or just a so-called \"front-man\"."
      ]
    },
    {
      "cell_type": "code",
      "execution_count": 46,
      "metadata": {
        "colab": {
          "base_uri": "https://localhost:8080/"
        },
        "id": "eittDDZK3-7f",
        "outputId": "19ca277f-0471-4a70-a0dc-02d44f24403f"
      },
      "outputs": [
        {
          "data": {
            "text/plain": [
              "array(['Puerto Rico', 'EE. UU.'], dtype=object)"
            ]
          },
          "execution_count": 46,
          "metadata": {},
          "output_type": "execute_result"
        }
      ],
      "source": [
        "fraud_df[fraud_df['Customer Name'] == 'Mary Smith']['Customer Country'].unique()"
      ]
    },
    {
      "cell_type": "code",
      "execution_count": 47,
      "metadata": {
        "colab": {
          "base_uri": "https://localhost:8080/"
        },
        "id": "b0wo9wp44Ale",
        "outputId": "9e364ab6-4c38-4c53-f855-ec8550841283"
      },
      "outputs": [
        {
          "data": {
            "text/plain": [
              "array(['Caguas', 'Brooklyn', 'Tonawanda', 'Rosemead', 'Los Angeles',\n",
              "       'Memphis', 'Wayne', 'Clearfield', 'East Brunswick', 'Chicago',\n",
              "       'San Diego', 'Mount Pleasant', 'Portland', 'El Paso', 'Elyria',\n",
              "       'Saint Paul', 'San Ramon', 'Bronx', 'Hanover', 'Hilliard',\n",
              "       'Albuquerque', 'Mission Viejo', 'Tallahassee', 'Elmhurst',\n",
              "       'Bismarck', 'West Orange', 'Elgin', 'Fountain Valley', 'Parkville',\n",
              "       'Fort Washington', 'Richmond', 'Wyandotte', 'Endicott',\n",
              "       'Irvington', 'West Chester', 'Ridgewood', 'Roswell', 'Brighton',\n",
              "       'Ballwin', 'Lansdale', 'Trujillo Alto', 'Hendersonville', 'Ithaca',\n",
              "       'San Jose', 'Lynwood', 'Miami', 'Tempe', 'Victorville',\n",
              "       'Oceanside', 'Aurora', 'Bakersfield', 'Warren', 'Honolulu',\n",
              "       'Raleigh', 'Modesto', 'Fort Worth', 'La Puente', 'Columbus',\n",
              "       'New Haven', 'Hollywood', 'Newburgh', 'Las Vegas', 'Bayonne',\n",
              "       'Sunnyvale', 'Fontana', 'Austin', 'New Orleans', 'Henrico',\n",
              "       'Roseville', 'Hagerstown', 'Massillon', 'West Covina',\n",
              "       'San Francisco', 'Normal', 'Huntington Beach', 'Houston',\n",
              "       'San Sebastian', 'Phoenix', 'Philadelphia', 'Gardena',\n",
              "       'Salt Lake City', 'Cleveland', 'Sugar Land', 'Marietta',\n",
              "       'Indianapolis'], dtype=object)"
            ]
          },
          "execution_count": 47,
          "metadata": {},
          "output_type": "execute_result"
        }
      ],
      "source": [
        "fraud_df[fraud_df['Customer Name'] == 'Mary Smith']['Customer City'].unique()"
      ]
    },
    {
      "cell_type": "markdown",
      "metadata": {
        "id": "9cCKnWYJ8BEo"
      },
      "source": [
        "The customer named `Mary Smith` alone was responible for trying to conduct fraud 528 times which is very shocking.\n",
        "Since Mary was using different address every time when placing orders, a new customer id was issued each time which makes it difficult to identify the customer and ban them. She's likely a front-man.\n",
        "<br>\n",
        "All these parameters should be taken into consideration to improve fraud detection algorithm so fraud can be identified more accurately."
      ]
    },
    {
      "cell_type": "markdown",
      "metadata": {
        "id": "8ChzuODY5Gw2"
      },
      "source": [
        "### **Data Modelling**"
      ]
    },
    {
      "cell_type": "markdown",
      "metadata": {
        "id": "Mz0oNvVonSBH"
      },
      "source": [
        "We make a copy of our dataset, so an eventual analysis can be made again."
      ]
    },
    {
      "cell_type": "code",
      "execution_count": 48,
      "metadata": {
        "id": "twIA4IHGLryD"
      },
      "outputs": [],
      "source": [
        "train_data = data.copy()"
      ]
    },
    {
      "cell_type": "code",
      "execution_count": 49,
      "metadata": {
        "colab": {
          "base_uri": "https://localhost:8080/"
        },
        "id": "7_3MqJ0LmhtS",
        "outputId": "92315674-72cb-4892-e110-3e5554788e1d"
      },
      "outputs": [
        {
          "data": {
            "text/plain": [
              "Type                              object\n",
              "Days for shipping (real)           int64\n",
              "Days for shipment (scheduled)      int64\n",
              "Benefit per order                float64\n",
              "Sales per customer               float64\n",
              "Delivery Status                   object\n",
              "Late Delivery Risk                 int64\n",
              "Category Name                     object\n",
              "Customer City                     object\n",
              "Customer Country                  object\n",
              "Customer Id                        int64\n",
              "Customer Name                     object\n",
              "Customer Segment                  object\n",
              "Customer State                    object\n",
              "Customer Zipcode                  object\n",
              "Department Id                      int64\n",
              "Market                            object\n",
              "Order City                        object\n",
              "Order Country                     object\n",
              "order date (DateOrders)           object\n",
              "Order Id                           int64\n",
              "Order Item Discount              float64\n",
              "Order Item Discount Rate         float64\n",
              "Order Item Id                      int64\n",
              "Order Item Profit Ratio          float64\n",
              "Order Item Quantity                int64\n",
              "Sales                            float64\n",
              "Order Item Total                 float64\n",
              "Order Region                      object\n",
              "Order State                       object\n",
              "Order Status                      object\n",
              "Product Card Id                    int64\n",
              "Product Category Id                int64\n",
              "Product Name                      object\n",
              "Product Price                    float64\n",
              "Shipping Mode                     object\n",
              "Shipping Delta                     int64\n",
              "Fraud                              int64\n",
              "dtype: object"
            ]
          },
          "execution_count": 49,
          "metadata": {},
          "output_type": "execute_result"
        }
      ],
      "source": [
        "train_data.dtypes"
      ]
    },
    {
      "cell_type": "code",
      "execution_count": 50,
      "metadata": {
        "id": "h0NDVH8R1Ryc"
      },
      "outputs": [],
      "source": [
        "train_data['Customer Zipcode'] = train_data['Customer Zipcode'].astype(int)"
      ]
    },
    {
      "cell_type": "markdown",
      "metadata": {
        "id": "NHHBwyb_nfPT"
      },
      "source": [
        "We prepare our train dataset removing some unnecessary features and popping the target variable."
      ]
    },
    {
      "cell_type": "code",
      "execution_count": 51,
      "metadata": {
        "id": "6Xu_o2ADLt60"
      },
      "outputs": [],
      "source": [
        "train_data.drop(['Delivery Status', 'order date (DateOrders)', 'Order Status', 'Shipping Delta'], axis=1, inplace=True)"
      ]
    },
    {
      "cell_type": "code",
      "execution_count": 52,
      "metadata": {
        "id": "qm8qs0qkYVUL"
      },
      "outputs": [],
      "source": [
        "y = train_data.pop('Fraud')"
      ]
    },
    {
      "cell_type": "markdown",
      "metadata": {
        "id": "bKkqWWim_CJu"
      },
      "source": [
        "##### **Label Encoding**"
      ]
    },
    {
      "cell_type": "markdown",
      "metadata": {
        "id": "I8njv3ciEMEB"
      },
      "source": [
        "Before diving into the predictions, we have to encode our data, as statistical models have to work with numbers rather than strings.\n",
        "<br>\n",
        "We perform this operation the function `LabelEncoder()`."
      ]
    },
    {
      "cell_type": "code",
      "execution_count": 53,
      "metadata": {
        "id": "fOX4_b5Z3Kmr"
      },
      "outputs": [],
      "source": [
        "le = preprocessing.LabelEncoder()\n",
        "for column in train_data.columns:\n",
        "  if train_data[column].dtype == 'object':\n",
        "    train_data[column] = le.fit_transform(train_data[column])"
      ]
    },
    {
      "cell_type": "code",
      "execution_count": 94,
      "metadata": {
        "colab": {
          "base_uri": "https://localhost:8080/"
        },
        "id": "V_ap7k8eoE6U",
        "outputId": "2a914c95-1b2c-4d33-c5f7-b89f0ac04274"
      },
      "outputs": [
        {
          "data": {
            "text/html": [
              "<div>\n",
              "<style scoped>\n",
              "    .dataframe tbody tr th:only-of-type {\n",
              "        vertical-align: middle;\n",
              "    }\n",
              "\n",
              "    .dataframe tbody tr th {\n",
              "        vertical-align: top;\n",
              "    }\n",
              "\n",
              "    .dataframe thead th {\n",
              "        text-align: right;\n",
              "    }\n",
              "</style>\n",
              "<table border=\"1\" class=\"dataframe\">\n",
              "  <thead>\n",
              "    <tr style=\"text-align: right;\">\n",
              "      <th></th>\n",
              "      <th>Type</th>\n",
              "      <th>Days for shipping (real)</th>\n",
              "      <th>Days for shipment (scheduled)</th>\n",
              "      <th>Benefit per order</th>\n",
              "      <th>Sales per customer</th>\n",
              "      <th>Late Delivery Risk</th>\n",
              "      <th>Category Name</th>\n",
              "      <th>Customer City</th>\n",
              "      <th>Customer Country</th>\n",
              "      <th>Customer Id</th>\n",
              "      <th>Customer Name</th>\n",
              "      <th>Customer Segment</th>\n",
              "      <th>Customer State</th>\n",
              "      <th>Customer Zipcode</th>\n",
              "      <th>Department Id</th>\n",
              "      <th>Market</th>\n",
              "      <th>Order City</th>\n",
              "      <th>Order Country</th>\n",
              "      <th>Order Id</th>\n",
              "      <th>Order Item Discount</th>\n",
              "      <th>Order Item Discount Rate</th>\n",
              "      <th>Order Item Id</th>\n",
              "      <th>Order Item Profit Ratio</th>\n",
              "      <th>Order Item Quantity</th>\n",
              "      <th>Sales</th>\n",
              "      <th>Order Item Total</th>\n",
              "      <th>Order Region</th>\n",
              "      <th>Order State</th>\n",
              "      <th>Product Card Id</th>\n",
              "      <th>Product Category Id</th>\n",
              "      <th>Product Name</th>\n",
              "      <th>Product Price</th>\n",
              "      <th>Shipping Mode</th>\n",
              "    </tr>\n",
              "  </thead>\n",
              "  <tbody>\n",
              "    <tr>\n",
              "      <th>180514</th>\n",
              "      <td>0</td>\n",
              "      <td>4</td>\n",
              "      <td>4</td>\n",
              "      <td>40.000000</td>\n",
              "      <td>399.980011</td>\n",
              "      <td>0</td>\n",
              "      <td>18</td>\n",
              "      <td>59</td>\n",
              "      <td>0</td>\n",
              "      <td>1005</td>\n",
              "      <td>8421</td>\n",
              "      <td>2</td>\n",
              "      <td>31</td>\n",
              "      <td>11207</td>\n",
              "      <td>7</td>\n",
              "      <td>3</td>\n",
              "      <td>2922</td>\n",
              "      <td>31</td>\n",
              "      <td>26043</td>\n",
              "      <td>0.0</td>\n",
              "      <td>0.00</td>\n",
              "      <td>65177</td>\n",
              "      <td>0.10</td>\n",
              "      <td>1</td>\n",
              "      <td>399.980011</td>\n",
              "      <td>399.980011</td>\n",
              "      <td>7</td>\n",
              "      <td>913</td>\n",
              "      <td>1004</td>\n",
              "      <td>45</td>\n",
              "      <td>24</td>\n",
              "      <td>399.980011</td>\n",
              "      <td>3</td>\n",
              "    </tr>\n",
              "    <tr>\n",
              "      <th>180515</th>\n",
              "      <td>1</td>\n",
              "      <td>3</td>\n",
              "      <td>2</td>\n",
              "      <td>-613.770019</td>\n",
              "      <td>395.980011</td>\n",
              "      <td>1</td>\n",
              "      <td>18</td>\n",
              "      <td>26</td>\n",
              "      <td>0</td>\n",
              "      <td>9141</td>\n",
              "      <td>11673</td>\n",
              "      <td>1</td>\n",
              "      <td>5</td>\n",
              "      <td>93304</td>\n",
              "      <td>7</td>\n",
              "      <td>3</td>\n",
              "      <td>1362</td>\n",
              "      <td>77</td>\n",
              "      <td>26037</td>\n",
              "      <td>4.0</td>\n",
              "      <td>0.01</td>\n",
              "      <td>65161</td>\n",
              "      <td>-1.55</td>\n",
              "      <td>1</td>\n",
              "      <td>399.980011</td>\n",
              "      <td>395.980011</td>\n",
              "      <td>7</td>\n",
              "      <td>770</td>\n",
              "      <td>1004</td>\n",
              "      <td>45</td>\n",
              "      <td>24</td>\n",
              "      <td>399.980011</td>\n",
              "      <td>2</td>\n",
              "    </tr>\n",
              "    <tr>\n",
              "      <th>180516</th>\n",
              "      <td>3</td>\n",
              "      <td>5</td>\n",
              "      <td>4</td>\n",
              "      <td>141.110001</td>\n",
              "      <td>391.980011</td>\n",
              "      <td>1</td>\n",
              "      <td>18</td>\n",
              "      <td>55</td>\n",
              "      <td>0</td>\n",
              "      <td>291</td>\n",
              "      <td>6296</td>\n",
              "      <td>1</td>\n",
              "      <td>7</td>\n",
              "      <td>6010</td>\n",
              "      <td>7</td>\n",
              "      <td>3</td>\n",
              "      <td>25</td>\n",
              "      <td>8</td>\n",
              "      <td>26024</td>\n",
              "      <td>8.0</td>\n",
              "      <td>0.02</td>\n",
              "      <td>65129</td>\n",
              "      <td>0.36</td>\n",
              "      <td>1</td>\n",
              "      <td>399.980011</td>\n",
              "      <td>391.980011</td>\n",
              "      <td>11</td>\n",
              "      <td>88</td>\n",
              "      <td>1004</td>\n",
              "      <td>45</td>\n",
              "      <td>24</td>\n",
              "      <td>399.980011</td>\n",
              "      <td>3</td>\n",
              "    </tr>\n",
              "    <tr>\n",
              "      <th>180517</th>\n",
              "      <td>2</td>\n",
              "      <td>3</td>\n",
              "      <td>4</td>\n",
              "      <td>186.229996</td>\n",
              "      <td>387.980011</td>\n",
              "      <td>0</td>\n",
              "      <td>18</td>\n",
              "      <td>66</td>\n",
              "      <td>1</td>\n",
              "      <td>2813</td>\n",
              "      <td>9380</td>\n",
              "      <td>0</td>\n",
              "      <td>36</td>\n",
              "      <td>725</td>\n",
              "      <td>7</td>\n",
              "      <td>3</td>\n",
              "      <td>25</td>\n",
              "      <td>8</td>\n",
              "      <td>26022</td>\n",
              "      <td>12.0</td>\n",
              "      <td>0.03</td>\n",
              "      <td>65126</td>\n",
              "      <td>0.48</td>\n",
              "      <td>1</td>\n",
              "      <td>399.980011</td>\n",
              "      <td>387.980011</td>\n",
              "      <td>11</td>\n",
              "      <td>88</td>\n",
              "      <td>1004</td>\n",
              "      <td>45</td>\n",
              "      <td>24</td>\n",
              "      <td>399.980011</td>\n",
              "      <td>3</td>\n",
              "    </tr>\n",
              "    <tr>\n",
              "      <th>180518</th>\n",
              "      <td>2</td>\n",
              "      <td>4</td>\n",
              "      <td>4</td>\n",
              "      <td>168.949997</td>\n",
              "      <td>383.980011</td>\n",
              "      <td>0</td>\n",
              "      <td>18</td>\n",
              "      <td>66</td>\n",
              "      <td>1</td>\n",
              "      <td>7547</td>\n",
              "      <td>658</td>\n",
              "      <td>0</td>\n",
              "      <td>36</td>\n",
              "      <td>725</td>\n",
              "      <td>7</td>\n",
              "      <td>3</td>\n",
              "      <td>2203</td>\n",
              "      <td>69</td>\n",
              "      <td>26018</td>\n",
              "      <td>16.0</td>\n",
              "      <td>0.04</td>\n",
              "      <td>65113</td>\n",
              "      <td>0.44</td>\n",
              "      <td>1</td>\n",
              "      <td>399.980011</td>\n",
              "      <td>383.980011</td>\n",
              "      <td>13</td>\n",
              "      <td>967</td>\n",
              "      <td>1004</td>\n",
              "      <td>45</td>\n",
              "      <td>24</td>\n",
              "      <td>399.980011</td>\n",
              "      <td>3</td>\n",
              "    </tr>\n",
              "  </tbody>\n",
              "</table>\n",
              "</div>"
            ],
            "text/plain": [
              "        Type  Days for shipping (real)  Days for shipment (scheduled)  \\\n",
              "180514     0                         4                              4   \n",
              "180515     1                         3                              2   \n",
              "180516     3                         5                              4   \n",
              "180517     2                         3                              4   \n",
              "180518     2                         4                              4   \n",
              "\n",
              "        Benefit per order  Sales per customer  Late Delivery Risk  \\\n",
              "180514          40.000000          399.980011                   0   \n",
              "180515        -613.770019          395.980011                   1   \n",
              "180516         141.110001          391.980011                   1   \n",
              "180517         186.229996          387.980011                   0   \n",
              "180518         168.949997          383.980011                   0   \n",
              "\n",
              "        Category Name  Customer City  Customer Country  Customer Id  \\\n",
              "180514             18             59                 0         1005   \n",
              "180515             18             26                 0         9141   \n",
              "180516             18             55                 0          291   \n",
              "180517             18             66                 1         2813   \n",
              "180518             18             66                 1         7547   \n",
              "\n",
              "        Customer Name  Customer Segment  Customer State  Customer Zipcode  \\\n",
              "180514           8421                 2              31             11207   \n",
              "180515          11673                 1               5             93304   \n",
              "180516           6296                 1               7              6010   \n",
              "180517           9380                 0              36               725   \n",
              "180518            658                 0              36               725   \n",
              "\n",
              "        Department Id  Market  Order City  Order Country  Order Id  \\\n",
              "180514              7       3        2922             31     26043   \n",
              "180515              7       3        1362             77     26037   \n",
              "180516              7       3          25              8     26024   \n",
              "180517              7       3          25              8     26022   \n",
              "180518              7       3        2203             69     26018   \n",
              "\n",
              "        Order Item Discount  Order Item Discount Rate  Order Item Id  \\\n",
              "180514                  0.0                      0.00          65177   \n",
              "180515                  4.0                      0.01          65161   \n",
              "180516                  8.0                      0.02          65129   \n",
              "180517                 12.0                      0.03          65126   \n",
              "180518                 16.0                      0.04          65113   \n",
              "\n",
              "        Order Item Profit Ratio  Order Item Quantity       Sales  \\\n",
              "180514                     0.10                    1  399.980011   \n",
              "180515                    -1.55                    1  399.980011   \n",
              "180516                     0.36                    1  399.980011   \n",
              "180517                     0.48                    1  399.980011   \n",
              "180518                     0.44                    1  399.980011   \n",
              "\n",
              "        Order Item Total  Order Region  Order State  Product Card Id  \\\n",
              "180514        399.980011             7          913             1004   \n",
              "180515        395.980011             7          770             1004   \n",
              "180516        391.980011            11           88             1004   \n",
              "180517        387.980011            11           88             1004   \n",
              "180518        383.980011            13          967             1004   \n",
              "\n",
              "        Product Category Id  Product Name  Product Price  Shipping Mode  \n",
              "180514                   45            24     399.980011              3  \n",
              "180515                   45            24     399.980011              2  \n",
              "180516                   45            24     399.980011              3  \n",
              "180517                   45            24     399.980011              3  \n",
              "180518                   45            24     399.980011              3  "
            ]
          },
          "execution_count": 94,
          "metadata": {},
          "output_type": "execute_result"
        }
      ],
      "source": [
        "train_data.tail(5)"
      ]
    },
    {
      "cell_type": "markdown",
      "metadata": {
        "id": "aTSAuw5aUhfr"
      },
      "source": [
        "##### **Train/Test splitting**"
      ]
    },
    {
      "cell_type": "markdown",
      "metadata": {
        "id": "Ovmcs6gpn77t"
      },
      "source": [
        "We split our dataset into a train and a test set, and we get sure to have them exactly the same length."
      ]
    },
    {
      "cell_type": "code",
      "execution_count": 55,
      "metadata": {
        "id": "gLRJoyD2XDku"
      },
      "outputs": [],
      "source": [
        "X_train, X_test, y_train, y_test = train_test_split(train_data, y, test_size=0.2, random_state=0)"
      ]
    },
    {
      "cell_type": "code",
      "execution_count": 56,
      "metadata": {
        "colab": {
          "base_uri": "https://localhost:8080/"
        },
        "id": "p54sWW5vbNwW",
        "outputId": "4e8e9beb-9c7c-433a-d1ff-f135c8913996"
      },
      "outputs": [
        {
          "data": {
            "text/plain": [
              "((144415, 33), (144415,))"
            ]
          },
          "execution_count": 56,
          "metadata": {},
          "output_type": "execute_result"
        }
      ],
      "source": [
        "X_train.shape, y_train.shape"
      ]
    },
    {
      "cell_type": "code",
      "execution_count": 57,
      "metadata": {
        "colab": {
          "base_uri": "https://localhost:8080/"
        },
        "id": "ScbRxON4bNUY",
        "outputId": "a903e39a-8fcb-477c-e11a-d439e877147e"
      },
      "outputs": [
        {
          "data": {
            "text/plain": [
              "((36104, 33), (36104,))"
            ]
          },
          "execution_count": 57,
          "metadata": {},
          "output_type": "execute_result"
        }
      ],
      "source": [
        "X_test.shape, y_test.shape"
      ]
    },
    {
      "cell_type": "markdown",
      "metadata": {
        "id": "7jhj7TkVPPdG"
      },
      "source": [
        "##### **Standardization of Data**"
      ]
    },
    {
      "cell_type": "markdown",
      "metadata": {
        "id": "LuNIaFN8D3Vm"
      },
      "source": [
        "The next step is to normalize the data: as some values outweight others, for example `Sales` compared to `Late Delivery Risk`, we do not want our models to think that the former are more important than the latter.\n",
        "<br>\n",
        "This process can be done throught the *Z-Score Normalization*, which consists of $\\frac{value - μ}{σ}$."
      ]
    },
    {
      "cell_type": "code",
      "execution_count": 58,
      "metadata": {
        "id": "3aeFw-m8_mXq"
      },
      "outputs": [],
      "source": [
        "sc = StandardScaler()"
      ]
    },
    {
      "cell_type": "code",
      "execution_count": 59,
      "metadata": {
        "id": "yK4aV2KFoKWU"
      },
      "outputs": [],
      "source": [
        "X_train=sc.fit_transform(X_train)\n",
        "X_test=sc.transform(X_test)"
      ]
    },
    {
      "cell_type": "markdown",
      "metadata": {
        "id": "pwSVKfoTPSCa"
      },
      "source": [
        "##### **Logistic Regression**"
      ]
    },
    {
      "cell_type": "code",
      "execution_count": 60,
      "metadata": {
        "id": "F8WwHtolYgLq"
      },
      "outputs": [],
      "source": [
        "clf = LogisticRegression(solver='saga', max_iter=1000)"
      ]
    },
    {
      "cell_type": "code",
      "execution_count": 61,
      "metadata": {
        "colab": {
          "base_uri": "https://localhost:8080/"
        },
        "id": "VUnxSRLaoQjx",
        "outputId": "ee821b88-5c54-49c7-987c-b9855337af49"
      },
      "outputs": [
        {
          "data": {
            "text/plain": [
              "LogisticRegression(max_iter=1000, solver='saga')"
            ]
          },
          "execution_count": 61,
          "metadata": {},
          "output_type": "execute_result"
        }
      ],
      "source": [
        "clf.fit(X_train, y_train)"
      ]
    },
    {
      "cell_type": "code",
      "execution_count": 62,
      "metadata": {
        "id": "ltlqTRF5oU1D"
      },
      "outputs": [],
      "source": [
        "THRESHOLD = 0.4\n",
        "preds = np.where(clf.predict_proba(X_test)[:,1] > THRESHOLD, 1, 0)\n",
        "#probability threshold of logistic regression lowered to 40%, so it will classificate positively a suspected fraud when the probability of the observation in bigger than 40%"
      ]
    },
    {
      "cell_type": "code",
      "execution_count": 63,
      "metadata": {
        "colab": {
          "base_uri": "https://localhost:8080/"
        },
        "id": "jh5gZCPUTqYz",
        "outputId": "5d3e4de9-a449-4b66-bce8-72c5fda4698c"
      },
      "outputs": [
        {
          "data": {
            "text/plain": [
              "array([[34993,   268],\n",
              "       [  527,   316]])"
            ]
          },
          "execution_count": 63,
          "metadata": {},
          "output_type": "execute_result"
        }
      ],
      "source": [
        "confusion_matrix(y_test, preds)"
      ]
    },
    {
      "cell_type": "code",
      "execution_count": 64,
      "metadata": {
        "id": "gTT9qDjRTlPX"
      },
      "outputs": [],
      "source": [
        "logistic_regression = pd.DataFrame(data=[\n",
        "                                         accuracy_score(y_test, preds),\n",
        "                                         recall_score(y_test, preds),\n",
        "                                         precision_score(y_test, preds),\n",
        "                                         f1_score(y_test, preds)\n",
        "                                         ],\n",
        "                                   index=['accuracy', 'recall', 'precision', 'f1 score'],\n",
        "                                   columns=['Logistic Regression']).T"
      ]
    },
    {
      "cell_type": "markdown",
      "metadata": {
        "id": "KZUmh-jZPAEq"
      },
      "source": [
        "##### **Random Forest**"
      ]
    },
    {
      "cell_type": "code",
      "execution_count": 65,
      "metadata": {
        "id": "jnOhDdp7bQ14"
      },
      "outputs": [],
      "source": [
        "rf_classifier = RandomForestClassifier(random_state=0)"
      ]
    },
    {
      "cell_type": "code",
      "execution_count": 66,
      "metadata": {
        "colab": {
          "base_uri": "https://localhost:8080/"
        },
        "id": "AwiMjmzfoXaJ",
        "outputId": "6c038fc0-6649-46d3-aee2-d73ef48d6e20"
      },
      "outputs": [
        {
          "data": {
            "text/plain": [
              "RandomForestClassifier(random_state=0)"
            ]
          },
          "execution_count": 66,
          "metadata": {},
          "output_type": "execute_result"
        }
      ],
      "source": [
        "rf_classifier.fit(X_train, y_train)"
      ]
    },
    {
      "cell_type": "code",
      "execution_count": 67,
      "metadata": {
        "id": "3JgbN1GxAH1U"
      },
      "outputs": [],
      "source": [
        "rf_pred = rf_classifier.predict(X_test)"
      ]
    },
    {
      "cell_type": "code",
      "execution_count": 68,
      "metadata": {
        "colab": {
          "base_uri": "https://localhost:8080/"
        },
        "id": "UGRdRZpaHREd",
        "outputId": "c17069c2-7f3e-4484-eaf5-e420f57fe27b"
      },
      "outputs": [
        {
          "data": {
            "text/plain": [
              "array([[35247,    14],\n",
              "       [  451,   392]])"
            ]
          },
          "execution_count": 68,
          "metadata": {},
          "output_type": "execute_result"
        }
      ],
      "source": [
        "confusion_matrix(y_test, rf_pred)"
      ]
    },
    {
      "cell_type": "code",
      "execution_count": 69,
      "metadata": {
        "id": "PKm6IyY_7z3K"
      },
      "outputs": [],
      "source": [
        "random_forest = pd.DataFrame(data=[\n",
        "                                   accuracy_score(y_test, rf_pred),\n",
        "                                   recall_score(y_test, rf_pred),\n",
        "                                   precision_score(y_test, rf_pred),\n",
        "                                   f1_score(y_test, rf_pred)\n",
        "                                   ],\n",
        "                             index=['accuracy', 'recall', 'precision', 'f1 score'],\n",
        "                             columns=['Random Forest']).T"
      ]
    },
    {
      "cell_type": "markdown",
      "metadata": {
        "id": "FqZjmobKuxXQ"
      },
      "source": [
        "##### **K-Nearest-Neighbor**"
      ]
    },
    {
      "cell_type": "markdown",
      "metadata": {
        "id": "v7hw02TaZy90"
      },
      "source": [
        "We noticed that the author of the notebook set `n_neighbors` parameter to 1, which could lead to overfitting.\n",
        "<br>\n",
        "We decided to set it to 3.\n",
        "<br>\n",
        "Althought time and computionally demanding, the model must try to calculate distances for a fair amount of neighbors in order to correctly classify our data."
      ]
    },
    {
      "cell_type": "code",
      "execution_count": 70,
      "metadata": {
        "id": "Q1qr5cYPu051"
      },
      "outputs": [],
      "source": [
        "KNN_classifier = KNeighborsClassifier(n_neighbors=1)"
      ]
    },
    {
      "cell_type": "code",
      "execution_count": 71,
      "metadata": {
        "colab": {
          "base_uri": "https://localhost:8080/"
        },
        "id": "d4f_0GqqHDY8",
        "outputId": "7d945d0d-ae10-4310-933e-d5ae4cafa54e"
      },
      "outputs": [
        {
          "data": {
            "text/plain": [
              "KNeighborsClassifier(n_neighbors=1)"
            ]
          },
          "execution_count": 71,
          "metadata": {},
          "output_type": "execute_result"
        }
      ],
      "source": [
        "KNN_classifier.fit(X_train, y_train)"
      ]
    },
    {
      "cell_type": "code",
      "execution_count": 72,
      "metadata": {
        "id": "NuB9eRs3u9Jv"
      },
      "outputs": [],
      "source": [
        "knn_pred = KNN_classifier.predict(X_test)"
      ]
    },
    {
      "cell_type": "code",
      "execution_count": 73,
      "metadata": {
        "colab": {
          "base_uri": "https://localhost:8080/"
        },
        "id": "J-1hsfWdv7FP",
        "outputId": "b9f67062-4b5d-40df-d188-5a55ce28a296"
      },
      "outputs": [
        {
          "data": {
            "text/plain": [
              "array([[34882,   379],\n",
              "       [  545,   298]])"
            ]
          },
          "execution_count": 73,
          "metadata": {},
          "output_type": "execute_result"
        }
      ],
      "source": [
        "confusion_matrix(y_test, knn_pred)"
      ]
    },
    {
      "cell_type": "code",
      "execution_count": 74,
      "metadata": {
        "id": "T1x5IGDy8Hae"
      },
      "outputs": [],
      "source": [
        "K_NN = pd.DataFrame(data=[\n",
        "                          accuracy_score(y_test, knn_pred),\n",
        "                          recall_score(y_test, knn_pred),\n",
        "                          precision_score(y_test, knn_pred),\n",
        "                          f1_score(y_test, knn_pred)\n",
        "                          ],\n",
        "                    index=['accuracy', 'recall', 'precision', 'f1 score'],\n",
        "                    columns=['K-Nearest Neighbors']).T"
      ]
    },
    {
      "cell_type": "markdown",
      "metadata": {
        "id": "7mPQq9gtOfMn"
      },
      "source": [
        "##### **Decision Tree**"
      ]
    },
    {
      "cell_type": "code",
      "execution_count": 75,
      "metadata": {
        "id": "eMp4L-OBON3K"
      },
      "outputs": [],
      "source": [
        "dec_tree = DecisionTreeClassifier()"
      ]
    },
    {
      "cell_type": "code",
      "execution_count": 76,
      "metadata": {
        "colab": {
          "base_uri": "https://localhost:8080/"
        },
        "id": "NGe3yQbiOlfZ",
        "outputId": "1c6708c7-4c8b-4687-c176-a955658e911d"
      },
      "outputs": [
        {
          "data": {
            "text/plain": [
              "DecisionTreeClassifier()"
            ]
          },
          "execution_count": 76,
          "metadata": {},
          "output_type": "execute_result"
        }
      ],
      "source": [
        "dec_tree.fit(X_train, y_train)"
      ]
    },
    {
      "cell_type": "code",
      "execution_count": 77,
      "metadata": {
        "id": "PvU3T2TNOpcw"
      },
      "outputs": [],
      "source": [
        "dt_pred = dec_tree.predict(X_test)"
      ]
    },
    {
      "cell_type": "code",
      "execution_count": 78,
      "metadata": {
        "colab": {
          "base_uri": "https://localhost:8080/"
        },
        "id": "_eInNpV7OpYW",
        "outputId": "94868fcf-21f4-4bc7-c5ab-f8cebe86730d"
      },
      "outputs": [
        {
          "data": {
            "text/plain": [
              "array([[35084,   177],\n",
              "       [  175,   668]])"
            ]
          },
          "execution_count": 78,
          "metadata": {},
          "output_type": "execute_result"
        }
      ],
      "source": [
        "confusion_matrix(y_test, dt_pred)"
      ]
    },
    {
      "cell_type": "code",
      "execution_count": 79,
      "metadata": {
        "id": "od-tI20E8R8K"
      },
      "outputs": [],
      "source": [
        "dec_tree_class = pd.DataFrame(data=[\n",
        "                                    accuracy_score(y_test, dt_pred),\n",
        "                                    recall_score(y_test, dt_pred),\n",
        "                                    precision_score(y_test, dt_pred),\n",
        "                                    f1_score(y_test, dt_pred)\n",
        "                                    ],\n",
        "                              index=['accuracy', 'recall', 'precision', 'f1 score'],\n",
        "                              columns=['Decision Tree']).T"
      ]
    },
    {
      "cell_type": "code",
      "execution_count": 80,
      "metadata": {
        "id": "15u1abahwblb"
      },
      "outputs": [],
      "source": [
        "# from sklearn.metrics import ConfusionMatrixDisplay\n",
        "\n",
        "# disp = ConfusionMatrixDisplay.from_estimator(dec_tree.fit(X_train, y_train),\n",
        "#                                              X_test,\n",
        "#                                              y_test,\n",
        "#                                              display_labels=['Fraud', 'No Fraud'],\n",
        "#                                              cmap=plt.cm.Blues)\n",
        "\n",
        "# # disp.confusion_matrix"
      ]
    },
    {
      "cell_type": "markdown",
      "metadata": {
        "id": "fst_hOkjuuzn"
      },
      "source": [
        "##### **Linear Discrimant Analysis**"
      ]
    },
    {
      "cell_type": "code",
      "execution_count": 81,
      "metadata": {
        "id": "I634C0Xkuubf"
      },
      "outputs": [],
      "source": [
        "LDA_model = LinearDiscriminantAnalysis()"
      ]
    },
    {
      "cell_type": "code",
      "execution_count": 82,
      "metadata": {
        "colab": {
          "base_uri": "https://localhost:8080/"
        },
        "id": "E1wujLRVIP_3",
        "outputId": "d43adafa-d2bb-4494-f27f-e1855d8c829b"
      },
      "outputs": [
        {
          "data": {
            "text/plain": [
              "LinearDiscriminantAnalysis()"
            ]
          },
          "execution_count": 82,
          "metadata": {},
          "output_type": "execute_result"
        }
      ],
      "source": [
        "LDA_model.fit(X_train, y_train)"
      ]
    },
    {
      "cell_type": "code",
      "execution_count": 83,
      "metadata": {
        "id": "HmYu_q8QIaZ5"
      },
      "outputs": [],
      "source": [
        "LDA_prediction = LDA_model.predict(X_test)"
      ]
    },
    {
      "cell_type": "code",
      "execution_count": 84,
      "metadata": {
        "colab": {
          "base_uri": "https://localhost:8080/"
        },
        "id": "7ct_oT4QIkqC",
        "outputId": "10b158b6-4b6a-46f2-e07b-eff3f410da27"
      },
      "outputs": [
        {
          "data": {
            "text/plain": [
              "array([[34955,   306],\n",
              "       [  484,   359]])"
            ]
          },
          "execution_count": 84,
          "metadata": {},
          "output_type": "execute_result"
        }
      ],
      "source": [
        "confusion_matrix(y_test, LDA_prediction)"
      ]
    },
    {
      "cell_type": "code",
      "execution_count": 85,
      "metadata": {
        "id": "4MxXJE9E8U1D"
      },
      "outputs": [],
      "source": [
        "L_DA = pd.DataFrame(data=[\n",
        "                          accuracy_score(y_test, LDA_prediction),\n",
        "                          recall_score(y_test, LDA_prediction),\n",
        "                          precision_score(y_test, LDA_prediction),\n",
        "                          f1_score(y_test, LDA_prediction)\n",
        "                          ],\n",
        "                    index=['accuracy', 'recall', 'precision', 'f1 score'],\n",
        "                    columns=['Linear Discriminant Analysis']).T"
      ]
    },
    {
      "cell_type": "markdown",
      "metadata": {
        "id": "IHchPA-dNroS"
      },
      "source": [
        "### **Model Comparison**"
      ]
    },
    {
      "cell_type": "code",
      "execution_count": 86,
      "metadata": {
        "id": "vAoIwCPq8d6T"
      },
      "outputs": [],
      "source": [
        "scores_table = pd.concat([K_NN, logistic_regression, dec_tree_class, random_forest, L_DA])"
      ]
    },
    {
      "cell_type": "code",
      "execution_count": 87,
      "metadata": {
        "colab": {
          "base_uri": "https://localhost:8080/"
        },
        "id": "kC-tcSOFHohF",
        "outputId": "ade4b4ac-7751-4432-ffdc-93b7e6b452f4"
      },
      "outputs": [
        {
          "data": {
            "text/html": [
              "<div>\n",
              "<style scoped>\n",
              "    .dataframe tbody tr th:only-of-type {\n",
              "        vertical-align: middle;\n",
              "    }\n",
              "\n",
              "    .dataframe tbody tr th {\n",
              "        vertical-align: top;\n",
              "    }\n",
              "\n",
              "    .dataframe thead th {\n",
              "        text-align: right;\n",
              "    }\n",
              "</style>\n",
              "<table border=\"1\" class=\"dataframe\">\n",
              "  <thead>\n",
              "    <tr style=\"text-align: right;\">\n",
              "      <th></th>\n",
              "      <th>accuracy</th>\n",
              "      <th>recall</th>\n",
              "      <th>precision</th>\n",
              "      <th>f1 score</th>\n",
              "    </tr>\n",
              "  </thead>\n",
              "  <tbody>\n",
              "    <tr>\n",
              "      <th>K-Nearest Neighbors</th>\n",
              "      <td>0.974407</td>\n",
              "      <td>0.353499</td>\n",
              "      <td>0.440177</td>\n",
              "      <td>0.392105</td>\n",
              "    </tr>\n",
              "    <tr>\n",
              "      <th>Logistic Regression</th>\n",
              "      <td>0.977980</td>\n",
              "      <td>0.374852</td>\n",
              "      <td>0.541096</td>\n",
              "      <td>0.442887</td>\n",
              "    </tr>\n",
              "    <tr>\n",
              "      <th>Decision Tree</th>\n",
              "      <td>0.990250</td>\n",
              "      <td>0.792408</td>\n",
              "      <td>0.790533</td>\n",
              "      <td>0.791469</td>\n",
              "    </tr>\n",
              "    <tr>\n",
              "      <th>Random Forest</th>\n",
              "      <td>0.987121</td>\n",
              "      <td>0.465006</td>\n",
              "      <td>0.965517</td>\n",
              "      <td>0.627702</td>\n",
              "    </tr>\n",
              "    <tr>\n",
              "      <th>Linear Discriminant Analysis</th>\n",
              "      <td>0.978119</td>\n",
              "      <td>0.425860</td>\n",
              "      <td>0.539850</td>\n",
              "      <td>0.476127</td>\n",
              "    </tr>\n",
              "  </tbody>\n",
              "</table>\n",
              "</div>"
            ],
            "text/plain": [
              "                              accuracy    recall  precision  f1 score\n",
              "K-Nearest Neighbors           0.974407  0.353499   0.440177  0.392105\n",
              "Logistic Regression           0.977980  0.374852   0.541096  0.442887\n",
              "Decision Tree                 0.990250  0.792408   0.790533  0.791469\n",
              "Random Forest                 0.987121  0.465006   0.965517  0.627702\n",
              "Linear Discriminant Analysis  0.978119  0.425860   0.539850  0.476127"
            ]
          },
          "execution_count": 87,
          "metadata": {},
          "output_type": "execute_result"
        }
      ],
      "source": [
        "scores_table"
      ]
    },
    {
      "cell_type": "markdown",
      "metadata": {
        "id": "bOpV7DbIWa6D"
      },
      "source": [
        "For this specific use-case, the metrics which are more useful are recall (i.e. the ability of the classifier to find all the positive samples.) and f1 score which combines both precision and recall into a single statistic.\n",
        "\n",
        "**Decision Tree Classifier** outperformed all the others models in terms of accuracy and recall. Regarding this last point, what was important in the prediction is not to guess a `False` value (no fraud) whenever it was `True` (fraud), namely a `False negative`. This seems particularly important when dealing with classification when the variable you want to predict is in small portion in comparison to the totality of the samples."
      ]
    },
    {
      "cell_type": "code",
      "execution_count": 88,
      "metadata": {
        "colab": {
          "base_uri": "https://localhost:8080/"
        },
        "id": "UPA27nospiu5",
        "outputId": "87e6fa23-f3a1-48cf-d4e5-1d20fccb3237"
      },
      "outputs": [
        {
          "name": "stdout",
          "output_type": "stream",
          "text": [
            "The ratio of suspected frauds over the total number of the orders provided is 2.25%.\n"
          ]
        }
      ],
      "source": [
        "suspected_fraud_ratio = len(data[data['Fraud'] == 1]) / len(data)\n",
        "print('The ratio of suspected frauds over the total number of the orders provided is {}%.'.format(round(suspected_fraud_ratio*100, 2)))"
      ]
    },
    {
      "cell_type": "markdown",
      "metadata": {
        "id": "bFzxMLN0qwRy"
      },
      "source": [
        "Now let's try a method to improve effectiveness of our model, **cross-validation**.\n",
        "<br>\n",
        "Although computationally expensive, it helps us understand if there was some sort of bias in splitting the data in the data modelling process."
      ]
    },
    {
      "cell_type": "code",
      "execution_count": 89,
      "metadata": {
        "id": "w35gZvn8NrE3"
      },
      "outputs": [],
      "source": [
        "models = []\n",
        "models.append(('LR', clf))\n",
        "models.append(('LDA', LDA_model))\n",
        "models.append(('KNN', KNN_classifier))\n",
        "models.append(('DTC', dec_tree))\n",
        "models.append(('RF', rf_classifier))"
      ]
    },
    {
      "cell_type": "code",
      "execution_count": 90,
      "metadata": {
        "id": "Bwzcy87WN8GU"
      },
      "outputs": [],
      "source": [
        "results = []\n",
        "names = []"
      ]
    },
    {
      "cell_type": "code",
      "execution_count": null,
      "metadata": {
        "colab": {
          "base_uri": "https://localhost:8080/"
        },
        "id": "1Cw1M0xlPP_D",
        "outputId": "261738eb-17ef-426e-d276-6094467e3ec9"
      },
      "outputs": [],
      "source": [
        "for name, model in models:\n",
        "\tkfold = KFold(n_splits=6, shuffle=True, random_state=7)\n",
        "\tcv_results = cross_val_score(model, train_data, y, cv=kfold, scoring='recall')\n",
        "\tresults.append(cv_results)\n",
        "\tnames.append(name)\n",
        "\tmsg = \"%s: %f (%f)\" % (name, cv_results.mean(), cv_results.std())\n",
        "\tprint(msg)"
      ]
    }
  ],
  "metadata": {
    "colab": {
      "collapsed_sections": [
        "E5xZoRMNimYW",
        "8ChzuODY5Gw2",
        "7jhj7TkVPPdG",
        "FqZjmobKuxXQ",
        "7mPQq9gtOfMn",
        "fst_hOkjuuzn",
        "IHchPA-dNroS"
      ],
      "name": "Comparison of Statistical Models for a Fraud Detection Application",
      "provenance": []
    },
    "interpreter": {
      "hash": "40d3a090f54c6569ab1632332b64b2c03c39dcf918b08424e98f38b5ae0af88f"
    },
    "kernelspec": {
      "display_name": "Python 3.9.7 ('base')",
      "language": "python",
      "name": "python3"
    },
    "language_info": {
      "codemirror_mode": {
        "name": "ipython",
        "version": 3
      },
      "file_extension": ".py",
      "mimetype": "text/x-python",
      "name": "python",
      "nbconvert_exporter": "python",
      "pygments_lexer": "ipython3",
      "version": "3.9.7"
    }
  },
  "nbformat": 4,
  "nbformat_minor": 0
}
